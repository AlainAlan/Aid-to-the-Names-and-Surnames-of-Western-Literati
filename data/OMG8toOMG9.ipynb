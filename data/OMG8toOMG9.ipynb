{
 "cells": [
  {
   "cell_type": "code",
   "execution_count": 1,
   "metadata": {},
   "outputs": [],
   "source": [
    "import pandas as pd"
   ]
  },
  {
   "cell_type": "code",
   "execution_count": 2,
   "metadata": {},
   "outputs": [
    {
     "name": "stdout",
     "output_type": "stream",
     "text": [
      "<class 'pandas.core.frame.DataFrame'>\n",
      "             名字       姓       名  中文名   汉名   漢名 洋名又名 汉名又名     无调姓      无调名\n",
      "0    Pascal Abb     Abb  Pascal  艾沛思  艾沛思  艾沛思  NaN  NaN     Abb   Pascal\n",
      "1      Oded Abt     Abt    Oded  歐克德  欧克德  歐克德  NaN  NaN     Abt     Oded\n",
      "2  Harold Acton   Acton  Harold  艾克頓  艾克顿  艾克頓  NaN  NaN   Acton   Harold\n",
      "3  Piotr Adamek  Adamek   Piotr  顧孝永  顾孝永  顧孝永  NaN  NaN  Adamek    Piotr\n",
      "4  Wendi Adamek  Adamek   Wendi  韋聞笛  韦闻笛  韋聞笛  NaN  NaN  Adamek    Wendi\n"
     ]
    }
   ],
   "source": [
    "df = pd.read_excel('OMG8.xlsx')\n",
    "print(type(df))\n",
    "print(df[0:5])"
   ]
  },
  {
   "cell_type": "code",
   "execution_count": 3,
   "metadata": {},
   "outputs": [],
   "source": [
    "df['去重专用'] = df['漢名'] + '，' + df['无调姓'] + '，'+ df['无调名']\n",
    "df = df.fillna('')"
   ]
  },
  {
   "cell_type": "code",
   "execution_count": 4,
   "metadata": {
    "scrolled": true
   },
   "outputs": [
    {
     "name": "stdout",
     "output_type": "stream",
     "text": [
      "                      名字           姓        名  中文名   汉名   漢名 洋名又名 汉名又名  \\\n",
      "5690              Ke Zou         Zou       Ke   邹科   邹科   鄒科             \n",
      "5691         Xiuying Zou         Zou  Xiuying  邹秀英  邹秀英  鄒秀英             \n",
      "5692          Jiping Zuo         Zuo   Jiping  左际平  左际平  左際平             \n",
      "5693        Erik Zürcher     Zürcher     Erik  许理和  许理和  許理和             \n",
      "5694  Harriet Zurndorfer  Zurndorfer  Harriet  宋汉理  宋汉理  宋漢理             \n",
      "\n",
      "             无调姓       无调名                     去重专用  \n",
      "5690         Zou        Ke               鄒科，Zou， Ke  \n",
      "5691         Zou   Xiuying         鄒秀英，Zou， Xiuying  \n",
      "5692         Zuo    Jiping          左際平，Zuo， Jiping  \n",
      "5693     Zurcher      Erik        許理和，Zurcher， Erik  \n",
      "5694  Zurndorfer   Harriet  宋漢理，Zurndorfer， Harriet  \n"
     ]
    }
   ],
   "source": [
    "print(df[-5:])"
   ]
  },
  {
   "cell_type": "code",
   "execution_count": 5,
   "metadata": {},
   "outputs": [
    {
     "data": {
      "text/plain": [
       "(5695, 11)"
      ]
     },
     "execution_count": 5,
     "metadata": {},
     "output_type": "execute_result"
    }
   ],
   "source": [
    "df.shape"
   ]
  },
  {
   "cell_type": "code",
   "execution_count": 6,
   "metadata": {
    "scrolled": true
   },
   "outputs": [
    {
     "name": "stdout",
     "output_type": "stream",
     "text": [
      "0       False\n",
      "1       False\n",
      "2        True\n",
      "3       False\n",
      "4        True\n",
      "        ...  \n",
      "5690     True\n",
      "5691     True\n",
      "5692     True\n",
      "5693     True\n",
      "5694     True\n",
      "Length: 5695, dtype: bool\n"
     ]
    }
   ],
   "source": [
    "# 先計數吧\n",
    "duplicate_row = df.duplicated(['去重专用'],keep=False) \n",
    "print(duplicate_row)"
   ]
  },
  {
   "cell_type": "code",
   "execution_count": 7,
   "metadata": {
    "scrolled": true
   },
   "outputs": [
    {
     "name": "stdout",
     "output_type": "stream",
     "text": [
      "                    名字         姓           名  中文名   汉名   漢名 洋名又名 汉名又名  \\\n",
      "2         Harold Acton     Acton      Harold  艾克頓  艾克顿  艾克頓             \n",
      "4         Wendi Adamek    Adamek       Wendi  韋聞笛  韦闻笛  韋聞笛             \n",
      "16   William P. Alford    Alford  William P.  安守廉  安守廉  安守廉             \n",
      "19         Sarah Allan     Allan       Sarah   艾蘭   艾兰   艾蘭             \n",
      "20     Joseph R. Allen     Allen   Joseph R.  周文龍  周文龙  周文龍             \n",
      "22  Robert E. Allinson  Allinson   Robert E.  愛蓮心  爱莲心  愛蓮心             \n",
      "\n",
      "         无调姓          无调名                     去重专用  \n",
      "2      Acton       Harold        艾克頓，Acton， Harold  \n",
      "4     Adamek        Wendi        韋聞笛，Adamek， Wendi  \n",
      "16    Alford   William P.   安守廉，Alford， William P.  \n",
      "19     Allan        Sarah          艾蘭，Allan， Sarah  \n",
      "20     Allen    Joseph R.     周文龍，Allen， Joseph R.  \n",
      "22  Allinson    Robert E.  愛蓮心，Allinson， Robert E.  \n"
     ]
    }
   ],
   "source": [
    "duplicate_data = df.loc[duplicate_row,:]\n",
    "print(duplicate_data[0:6])\n",
    "# 这是所有在严格意义上重复的数据，没得讲，计算重复次数，然后保留其一"
   ]
  },
  {
   "cell_type": "code",
   "execution_count": 8,
   "metadata": {},
   "outputs": [],
   "source": [
    "count_df = df['去重专用'].value_counts().to_frame().reset_index().rename(columns={'index':'Name','去重专用':'count'})\n",
    "\n",
    "# df['values'].value_counts().to_frame().reset_index().rename(columns={'index':'values', 'values':'count'})"
   ]
  },
  {
   "cell_type": "code",
   "execution_count": 9,
   "metadata": {},
   "outputs": [
    {
     "data": {
      "text/html": [
       "<div>\n",
       "<style scoped>\n",
       "    .dataframe tbody tr th:only-of-type {\n",
       "        vertical-align: middle;\n",
       "    }\n",
       "\n",
       "    .dataframe tbody tr th {\n",
       "        vertical-align: top;\n",
       "    }\n",
       "\n",
       "    .dataframe thead th {\n",
       "        text-align: right;\n",
       "    }\n",
       "</style>\n",
       "<table border=\"1\" class=\"dataframe\">\n",
       "  <thead>\n",
       "    <tr style=\"text-align: right;\">\n",
       "      <th></th>\n",
       "      <th>Name</th>\n",
       "      <th>count</th>\n",
       "    </tr>\n",
       "  </thead>\n",
       "  <tbody>\n",
       "    <tr>\n",
       "      <th>0</th>\n",
       "      <td>賓板橋，Bingham， Woodbridge</td>\n",
       "      <td>3</td>\n",
       "    </tr>\n",
       "    <tr>\n",
       "      <th>1</th>\n",
       "      <td>吳妙慧，Goh， Meow Hui</td>\n",
       "      <td>3</td>\n",
       "    </tr>\n",
       "    <tr>\n",
       "      <th>2</th>\n",
       "      <td>張嘉鳳，Chang， Chia-Feng</td>\n",
       "      <td>3</td>\n",
       "    </tr>\n",
       "    <tr>\n",
       "      <th>3</th>\n",
       "      <td>何義壯，Heijdra， Martin</td>\n",
       "      <td>3</td>\n",
       "    </tr>\n",
       "    <tr>\n",
       "      <th>4</th>\n",
       "      <td>吳文津，Wu， Eugene</td>\n",
       "      <td>3</td>\n",
       "    </tr>\n",
       "    <tr>\n",
       "      <th>...</th>\n",
       "      <td>...</td>\n",
       "      <td>...</td>\n",
       "    </tr>\n",
       "    <tr>\n",
       "      <th>4471</th>\n",
       "      <td>許芥昱，Hsu， Kai-Yu</td>\n",
       "      <td>1</td>\n",
       "    </tr>\n",
       "    <tr>\n",
       "      <th>4472</th>\n",
       "      <td>畢來德，Billeter， Jean-Francois</td>\n",
       "      <td>1</td>\n",
       "    </tr>\n",
       "    <tr>\n",
       "      <th>4473</th>\n",
       "      <td>曾銳生，Tsang， Steve</td>\n",
       "      <td>1</td>\n",
       "    </tr>\n",
       "    <tr>\n",
       "      <th>4474</th>\n",
       "      <td>鄭振滿，Zheng， Zhenman</td>\n",
       "      <td>1</td>\n",
       "    </tr>\n",
       "    <tr>\n",
       "      <th>4475</th>\n",
       "      <td>張重一，Chang， Chung-i</td>\n",
       "      <td>1</td>\n",
       "    </tr>\n",
       "  </tbody>\n",
       "</table>\n",
       "<p>4476 rows × 2 columns</p>\n",
       "</div>"
      ],
      "text/plain": [
       "                             Name  count\n",
       "0         賓板橋，Bingham， Woodbridge      3\n",
       "1               吳妙慧，Goh， Meow Hui      3\n",
       "2            張嘉鳳，Chang， Chia-Feng      3\n",
       "3             何義壯，Heijdra， Martin      3\n",
       "4                  吳文津，Wu， Eugene      3\n",
       "...                           ...    ...\n",
       "4471              許芥昱，Hsu， Kai-Yu      1\n",
       "4472  畢來德，Billeter， Jean-Francois      1\n",
       "4473             曾銳生，Tsang， Steve      1\n",
       "4474           鄭振滿，Zheng， Zhenman      1\n",
       "4475           張重一，Chang， Chung-i      1\n",
       "\n",
       "[4476 rows x 2 columns]"
      ]
     },
     "execution_count": 9,
     "metadata": {},
     "output_type": "execute_result"
    }
   ],
   "source": [
    "count_df"
   ]
  },
  {
   "cell_type": "code",
   "execution_count": 10,
   "metadata": {},
   "outputs": [],
   "source": [
    "df1 = df.drop_duplicates(['去重专用'])"
   ]
  },
  {
   "cell_type": "code",
   "execution_count": 11,
   "metadata": {},
   "outputs": [
    {
     "name": "stdout",
     "output_type": "stream",
     "text": [
      "                  名字        姓       名  中文名   汉名   漢名 洋名又名 汉名又名      无调姓  \\\n",
      "0         Pascal Abb      Abb  Pascal  艾沛思  艾沛思  艾沛思                Abb   \n",
      "1           Oded Abt      Abt    Oded  歐克德  欧克德  歐克德                Abt   \n",
      "2       Harold Acton    Acton  Harold  艾克頓  艾克顿  艾克頓              Acton   \n",
      "3       Piotr Adamek   Adamek   Piotr  顧孝永  顾孝永  顧孝永             Adamek   \n",
      "4       Wendi Adamek   Adamek   Wendi  韋聞笛  韦闻笛  韋聞笛             Adamek   \n",
      "...              ...      ...     ...  ...  ...  ...  ...  ...      ...   \n",
      "4471        Xun Zhou     Zhou     Xun   周逊   周逊   周遜               Zhou   \n",
      "4472         Yu Zhou     Zhou      Yu   周宇   周宇   周宇               Zhou   \n",
      "4473      Zhiqun Zhu      Zhu  Zhiqun  朱志群  朱志群  朱志羣                Zhu   \n",
      "4474   Brook Ziporyn  Ziporyn   Brook  任博克  任博克  任博克            Ziporyn   \n",
      "4475  Angelo Zottoli  Zottoli  Angelo  晁德莅  晁德莅  晁德蒞            Zottoli   \n",
      "\n",
      "          无调名                 去重专用                 Name  count  \n",
      "0      Pascal      艾沛思，Abb， Pascal      艾沛思，Abb， Pascal      1  \n",
      "1        Oded        歐克德，Abt， Oded        歐克德，Abt， Oded      1  \n",
      "2      Harold    艾克頓，Acton， Harold    艾克頓，Acton， Harold      2  \n",
      "3       Piotr    顧孝永，Adamek， Piotr    顧孝永，Adamek， Piotr      1  \n",
      "4       Wendi    韋聞笛，Adamek， Wendi    韋聞笛，Adamek， Wendi      2  \n",
      "...       ...                  ...                  ...    ...  \n",
      "4471      Xun         周遜，Zhou， Xun         周遜，Zhou， Xun      1  \n",
      "4472       Yu          周宇，Zhou， Yu          周宇，Zhou， Yu      1  \n",
      "4473   Zhiqun      朱志羣，Zhu， Zhiqun      朱志羣，Zhu， Zhiqun      1  \n",
      "4474    Brook   任博克，Ziporyn， Brook   任博克，Ziporyn， Brook      1  \n",
      "4475   Angelo  晁德蒞，Zottoli， Angelo  晁德蒞，Zottoli， Angelo      1  \n",
      "\n",
      "[4476 rows x 13 columns]\n"
     ]
    }
   ],
   "source": [
    "df3_with_count = pd.merge(df1, count_df, left_on='去重专用',right_on='Name')\n",
    "print(df3_with_count)"
   ]
  },
  {
   "cell_type": "code",
   "execution_count": 12,
   "metadata": {},
   "outputs": [],
   "source": [
    "import numpy as np"
   ]
  },
  {
   "cell_type": "code",
   "execution_count": 13,
   "metadata": {
    "scrolled": false
   },
   "outputs": [
    {
     "name": "stdout",
     "output_type": "stream",
     "text": [
      "                              名字                姓              名  中文名   汉名  \\\n",
      "0                     Pascal Abb              Abb         Pascal  艾沛思  艾沛思   \n",
      "1                       Oded Abt              Abt           Oded  歐克德  欧克德   \n",
      "2                   Harold Acton            Acton         Harold  艾克頓  艾克顿   \n",
      "3                   Piotr Adamek           Adamek          Piotr  顧孝永  顾孝永   \n",
      "4                   Wendi Adamek           Adamek          Wendi  韋聞笛  韦闻笛   \n",
      "5                Joseph A. Adler            Adler      Joseph A.  艾周思  艾周思   \n",
      "6                  Nick Admussen         Admussen           Nick  安敏軒  安敏轩   \n",
      "7                 Liubov Afonina          Afonina         Liubov  劉雨馨  刘雨馨   \n",
      "8  Victor Manuel Aguilar Sánchez  Aguilar Sánchez  Victor Manuel  歐衛道  欧卫道   \n",
      "\n",
      "    漢名 洋名又名 汉名又名              无调姓             无调名  \\\n",
      "0  艾沛思                        Abb          Pascal   \n",
      "1  歐克德                        Abt            Oded   \n",
      "2  艾克頓                      Acton          Harold   \n",
      "3  顧孝永                     Adamek           Piotr   \n",
      "4  韋聞笛                     Adamek           Wendi   \n",
      "5  艾周思                      Adler       Joseph A.   \n",
      "6  安敏軒                   Admussen            Nick   \n",
      "7  劉雨馨                    Afonina          Liubov   \n",
      "8  歐衛道            Aguilar Sanchez   Victor Manuel   \n",
      "\n",
      "                                 去重专用                                Name  \\\n",
      "0                     艾沛思，Abb， Pascal                     艾沛思，Abb， Pascal   \n",
      "1                       歐克德，Abt， Oded                       歐克德，Abt， Oded   \n",
      "2                   艾克頓，Acton， Harold                   艾克頓，Acton， Harold   \n",
      "3                   顧孝永，Adamek， Piotr                   顧孝永，Adamek， Piotr   \n",
      "4                   韋聞笛，Adamek， Wendi                   韋聞笛，Adamek， Wendi   \n",
      "5                艾周思，Adler， Joseph A.                艾周思，Adler， Joseph A.   \n",
      "6                  安敏軒，Admussen， Nick                  安敏軒，Admussen， Nick   \n",
      "7                 劉雨馨，Afonina， Liubov                 劉雨馨，Afonina， Liubov   \n",
      "8  歐衛道，Aguilar Sanchez， Victor Manuel  歐衛道，Aguilar Sanchez， Victor Manuel   \n",
      "\n",
      "   count  \n",
      "0      1  \n",
      "1      1  \n",
      "2      2  \n",
      "3      1  \n",
      "4      2  \n",
      "5      1  \n",
      "6      1  \n",
      "7      1  \n",
      "8      1  \n"
     ]
    }
   ],
   "source": [
    "print(df3_with_count[0:9])"
   ]
  },
  {
   "cell_type": "code",
   "execution_count": 14,
   "metadata": {},
   "outputs": [],
   "source": [
    "try:\n",
    "    df3_with_count.drop(['Name','去重专用'], axis=1, inplace=True)\n",
    "except KeyError:\n",
    "    print('好像你已经运行过一遍了，笨蛋')"
   ]
  },
  {
   "cell_type": "code",
   "execution_count": 15,
   "metadata": {},
   "outputs": [
    {
     "name": "stdout",
     "output_type": "stream",
     "text": [
      "                  名字        姓       名  中文名   汉名   漢名 洋名又名 汉名又名      无调姓  \\\n",
      "0         Pascal Abb      Abb  Pascal  艾沛思  艾沛思  艾沛思                Abb   \n",
      "1           Oded Abt      Abt    Oded  歐克德  欧克德  歐克德                Abt   \n",
      "2       Harold Acton    Acton  Harold  艾克頓  艾克顿  艾克頓              Acton   \n",
      "3       Piotr Adamek   Adamek   Piotr  顧孝永  顾孝永  顧孝永             Adamek   \n",
      "4       Wendi Adamek   Adamek   Wendi  韋聞笛  韦闻笛  韋聞笛             Adamek   \n",
      "...              ...      ...     ...  ...  ...  ...  ...  ...      ...   \n",
      "4471        Xun Zhou     Zhou     Xun   周逊   周逊   周遜               Zhou   \n",
      "4472         Yu Zhou     Zhou      Yu   周宇   周宇   周宇               Zhou   \n",
      "4473      Zhiqun Zhu      Zhu  Zhiqun  朱志群  朱志群  朱志羣                Zhu   \n",
      "4474   Brook Ziporyn  Ziporyn   Brook  任博克  任博克  任博克            Ziporyn   \n",
      "4475  Angelo Zottoli  Zottoli  Angelo  晁德莅  晁德莅  晁德蒞            Zottoli   \n",
      "\n",
      "          无调名  count  \n",
      "0      Pascal      1  \n",
      "1        Oded      1  \n",
      "2      Harold      2  \n",
      "3       Piotr      1  \n",
      "4       Wendi      2  \n",
      "...       ...    ...  \n",
      "4471      Xun      1  \n",
      "4472       Yu      1  \n",
      "4473   Zhiqun      1  \n",
      "4474    Brook      1  \n",
      "4475   Angelo      1  \n",
      "\n",
      "[4476 rows x 11 columns]\n"
     ]
    }
   ],
   "source": [
    "print(df3_with_count)"
   ]
  },
  {
   "cell_type": "code",
   "execution_count": 16,
   "metadata": {
    "scrolled": false
   },
   "outputs": [],
   "source": [
    "zh_duplicate_row1 = df3_with_count.duplicated(['汉名'],keep='first') \n",
    "zh_duplicate_row2 = df3_with_count.duplicated(['汉名'],keep='last') "
   ]
  },
  {
   "cell_type": "code",
   "execution_count": 17,
   "metadata": {},
   "outputs": [],
   "source": [
    "zh_dup_data1 = df3_with_count.loc[zh_duplicate_row1,:]\n",
    "zh_dup_data2 = df3_with_count.loc[zh_duplicate_row2,:]"
   ]
  },
  {
   "cell_type": "code",
   "execution_count": 18,
   "metadata": {},
   "outputs": [],
   "source": [
    "zh_dup_data = zh_dup_data1.append(zh_dup_data2)"
   ]
  },
  {
   "cell_type": "code",
   "execution_count": 19,
   "metadata": {},
   "outputs": [],
   "source": [
    "# zh_dup_data.drop_duplicates(['汉名'],keep=False)\n",
    "# 检查一下，确实都是重复项"
   ]
  },
  {
   "cell_type": "code",
   "execution_count": 20,
   "metadata": {},
   "outputs": [
    {
     "name": "stdout",
     "output_type": "stream",
     "text": [
      "                                    名字                 姓  \\\n",
      "2160                    William Martin            Martin   \n",
      "4167  William Alexander Parsons Martin            Martin   \n",
      "1050                 Richard von Glahn             Glahn   \n",
      "4370                 Richard Von Glahn         Von Glahn   \n",
      "3175                  Bryan Van Norden        Van Norden   \n",
      "...                                ...               ...   \n",
      "1372                  C.T. James Huang             Huang   \n",
      "4196                     Andrew Nathan            Nathan   \n",
      "2331               Andrew James Nathan            Nathan   \n",
      "672              Mark Csikszentmihalyi  Csikszentmihalyi   \n",
      "3873          Mark A. Csikszentmihalyi  Csikszentmihalyi   \n",
      "\n",
      "                              名  中文名   汉名   漢名 洋名又名 汉名又名               无调姓  \\\n",
      "2160                    William  丁韙良  丁韪良  丁韙良                      Martin   \n",
      "4167  William Alexander Parsons  丁韪良  丁韪良  丁韙良                      Martin   \n",
      "1050                Richard von  萬志英  万志英  萬志英                       Glahn   \n",
      "4370                    Richard  万志英  万志英  萬志英                   Von Glahn   \n",
      "3175                      Bryan  萬百安  万百安  萬百安                  Van Norden   \n",
      "...                         ...  ...  ...  ...  ...  ...               ...   \n",
      "1372                 C.T. James  黃正德  黄正德  黃正德                       Huang   \n",
      "4196                     Andrew  黎安友  黎安友  黎安友                      Nathan   \n",
      "2331               Andrew James  黎安友  黎安友  黎安友                      Nathan   \n",
      "672                        Mark  齊思敏  齐思敏  齊思敏            Csikszentmihalyi   \n",
      "3873                    Mark A.  齐思敏  齐思敏  齊思敏            Csikszentmihalyi   \n",
      "\n",
      "                             无调名  count  \n",
      "2160                     William      1  \n",
      "4167   William Alexander Parsons      1  \n",
      "1050                 Richard von      1  \n",
      "4370                     Richard      1  \n",
      "3175                       Bryan      1  \n",
      "...                          ...    ...  \n",
      "1372                  C.T. James      1  \n",
      "4196                      Andrew      1  \n",
      "2331                Andrew James      1  \n",
      "672                         Mark      1  \n",
      "3873                     Mark A.      1  \n",
      "\n",
      "[550 rows x 11 columns]\n"
     ]
    }
   ],
   "source": [
    "print(zh_dup_data.sort_values(by = ['汉名'],ascending=True))\n",
    "# 有很多，需要人工核查，输出到表格\n",
    "zh_dup_data.sort_values(by = ['汉名'],ascending=True).to_csv('进一步去重前人工核查20210701.txt')"
   ]
  },
  {
   "cell_type": "code",
   "execution_count": 111,
   "metadata": {},
   "outputs": [],
   "source": [
    "import opencc\n",
    "t2s = opencc.OpenCC('t2s.json')"
   ]
  },
  {
   "cell_type": "code",
   "execution_count": 112,
   "metadata": {},
   "outputs": [],
   "source": [
    "weird_dup = []\n",
    "with open('weird_dup_20210701.csv','r',encoding='utf8') as d:\n",
    "    lines = d.readlines()\n",
    "    for line in lines:\n",
    "        weird_dup.append(t2s.convert(line.split(',')[1].strip()))\n",
    "weird_dup = list(set(weird_dup))"
   ]
  },
  {
   "cell_type": "code",
   "execution_count": 113,
   "metadata": {},
   "outputs": [],
   "source": [
    "# weird_dup\n",
    "df4_duplicate_row = df3_with_count.duplicated(['汉名'],keep=False) "
   ]
  },
  {
   "cell_type": "code",
   "execution_count": 114,
   "metadata": {},
   "outputs": [],
   "source": [
    "df4_duplicate_data = df3_with_count.loc[df4_duplicate_row,:]"
   ]
  },
  {
   "cell_type": "code",
   "execution_count": 115,
   "metadata": {},
   "outputs": [],
   "source": [
    "df4_first = df4_duplicate_data.drop_duplicates(['汉名'],keep='first')\n",
    "df4_last = df4_duplicate_data.drop_duplicates(['汉名'],keep='last')"
   ]
  },
  {
   "cell_type": "code",
   "execution_count": 116,
   "metadata": {},
   "outputs": [
    {
     "data": {
      "text/plain": [
       "(3935, 11)"
      ]
     },
     "execution_count": 116,
     "metadata": {},
     "output_type": "execute_result"
    }
   ],
   "source": [
    "df4_first_n_last = pd.merge(df4_first, df4_last.loc[:,['名字','汉名','汉名又名','洋名又名']], how='left',on=['汉名']).rename(columns={'名字_y':'异文','名字_x':'名字','洋名又名_x':'洋名又名','汉名又名_x':'汉名又名'})\n",
    "zh_without_duplicate_row = df3_with_count.drop_duplicates(['汉名'],keep=False)\n",
    "zh_without_duplicate_row.shape"
   ]
  },
  {
   "cell_type": "code",
   "execution_count": 117,
   "metadata": {},
   "outputs": [
    {
     "name": "stdout",
     "output_type": "stream",
     "text": [
      "Kang-i Sun Chang\n",
      "Nien-Chu Yang\n"
     ]
    }
   ],
   "source": [
    "for index,row in df4_first_n_last.iterrows():\n",
    "    v_en_name = row['洋名又名_y']\n",
    "    if len(v_en_name) > 1:\n",
    "        df4_first_n_last.loc[index,['异文']] += '、' + v_en_name\n",
    "        print(v_en_name)\n",
    "    v_zh_name = row['汉名又名_y']\n",
    "    if len(v_zh_name) > 1:\n",
    "        df4_first_n_last.loc[index,['异文']] += '、' + v_zh_name"
   ]
  },
  {
   "cell_type": "code",
   "execution_count": 118,
   "metadata": {
    "scrolled": true
   },
   "outputs": [],
   "source": [
    "b  = df4_first_n_last.loc[df4_first_n_last['洋名又名_y']=='Nien-Chu Yang',:]"
   ]
  },
  {
   "cell_type": "code",
   "execution_count": 119,
   "metadata": {},
   "outputs": [
    {
     "data": {
      "text/html": [
       "<div>\n",
       "<style scoped>\n",
       "    .dataframe tbody tr th:only-of-type {\n",
       "        vertical-align: middle;\n",
       "    }\n",
       "\n",
       "    .dataframe tbody tr th {\n",
       "        vertical-align: top;\n",
       "    }\n",
       "\n",
       "    .dataframe thead th {\n",
       "        text-align: right;\n",
       "    }\n",
       "</style>\n",
       "<table border=\"1\" class=\"dataframe\">\n",
       "  <thead>\n",
       "    <tr style=\"text-align: right;\">\n",
       "      <th></th>\n",
       "      <th>名字</th>\n",
       "      <th>姓</th>\n",
       "      <th>名</th>\n",
       "      <th>中文名</th>\n",
       "      <th>汉名</th>\n",
       "      <th>漢名</th>\n",
       "      <th>洋名又名</th>\n",
       "      <th>汉名又名</th>\n",
       "      <th>无调姓</th>\n",
       "      <th>无调名</th>\n",
       "      <th>count</th>\n",
       "      <th>异文</th>\n",
       "      <th>汉名又名_y</th>\n",
       "      <th>洋名又名_y</th>\n",
       "    </tr>\n",
       "  </thead>\n",
       "  <tbody>\n",
       "    <tr>\n",
       "      <th>255</th>\n",
       "      <td>Andrew N.D.（Nien-Chu Yang) Yang</td>\n",
       "      <td>Yang</td>\n",
       "      <td>Andrew N.D.（Nien-Chu Yang)</td>\n",
       "      <td>楊念祖</td>\n",
       "      <td>杨念祖</td>\n",
       "      <td>楊念祖</td>\n",
       "      <td></td>\n",
       "      <td></td>\n",
       "      <td>Yang</td>\n",
       "      <td>Andrew N.D.(Nien-Chu Yang)</td>\n",
       "      <td>1</td>\n",
       "      <td>Andrew N.D. Yang、Nien-Chu Yang</td>\n",
       "      <td></td>\n",
       "      <td>Nien-Chu Yang</td>\n",
       "    </tr>\n",
       "  </tbody>\n",
       "</table>\n",
       "</div>"
      ],
      "text/plain": [
       "                                  名字     姓                           名  中文名  \\\n",
       "255  Andrew N.D.（Nien-Chu Yang) Yang  Yang  Andrew N.D.（Nien-Chu Yang)  楊念祖   \n",
       "\n",
       "      汉名   漢名 洋名又名 汉名又名   无调姓                          无调名  count  \\\n",
       "255  杨念祖  楊念祖            Yang   Andrew N.D.(Nien-Chu Yang)      1   \n",
       "\n",
       "                                 异文 汉名又名_y         洋名又名_y  \n",
       "255  Andrew N.D. Yang、Nien-Chu Yang         Nien-Chu Yang  "
      ]
     },
     "execution_count": 119,
     "metadata": {},
     "output_type": "execute_result"
    }
   ],
   "source": [
    "b"
   ]
  },
  {
   "cell_type": "code",
   "execution_count": 120,
   "metadata": {},
   "outputs": [],
   "source": [
    "df4_first_n_last = df4_first_n_last.drop(['汉名又名_y','洋名又名_y'],axis=1)"
   ]
  },
  {
   "cell_type": "code",
   "execution_count": 121,
   "metadata": {},
   "outputs": [
    {
     "data": {
      "text/plain": [
       "(236, 12)"
      ]
     },
     "execution_count": 121,
     "metadata": {},
     "output_type": "execute_result"
    }
   ],
   "source": [
    "# 还要从中删掉奇怪的那些行\n",
    "df4_first_n_last = df4_first_n_last.loc[~df4_first_n_last['汉名'].isin(weird_dup),:]\n",
    "df4_first_n_last.shape"
   ]
  },
  {
   "cell_type": "code",
   "execution_count": 122,
   "metadata": {},
   "outputs": [],
   "source": [
    "quasi_final_data = zh_without_duplicate_row.append(df4_first_n_last,ignore_index=True)"
   ]
  },
  {
   "cell_type": "code",
   "execution_count": 123,
   "metadata": {},
   "outputs": [
    {
     "data": {
      "text/plain": [
       "(4171, 12)"
      ]
     },
     "execution_count": 123,
     "metadata": {},
     "output_type": "execute_result"
    }
   ],
   "source": [
    "quasi_final_data.shape"
   ]
  },
  {
   "cell_type": "code",
   "execution_count": 124,
   "metadata": {},
   "outputs": [],
   "source": [
    "saved_weird_rows = df3_with_count.loc[df3_with_count['汉名'].isin(weird_dup),:]"
   ]
  },
  {
   "cell_type": "code",
   "execution_count": 125,
   "metadata": {},
   "outputs": [
    {
     "data": {
      "text/plain": [
       "(66, 11)"
      ]
     },
     "execution_count": 125,
     "metadata": {},
     "output_type": "execute_result"
    }
   ],
   "source": [
    "saved_weird_rows.shape"
   ]
  },
  {
   "cell_type": "code",
   "execution_count": 126,
   "metadata": {},
   "outputs": [
    {
     "data": {
      "text/html": [
       "<div>\n",
       "<style scoped>\n",
       "    .dataframe tbody tr th:only-of-type {\n",
       "        vertical-align: middle;\n",
       "    }\n",
       "\n",
       "    .dataframe tbody tr th {\n",
       "        vertical-align: top;\n",
       "    }\n",
       "\n",
       "    .dataframe thead th {\n",
       "        text-align: right;\n",
       "    }\n",
       "</style>\n",
       "<table border=\"1\" class=\"dataframe\">\n",
       "  <thead>\n",
       "    <tr style=\"text-align: right;\">\n",
       "      <th></th>\n",
       "      <th>名字</th>\n",
       "      <th>姓</th>\n",
       "      <th>名</th>\n",
       "      <th>中文名</th>\n",
       "      <th>汉名</th>\n",
       "      <th>漢名</th>\n",
       "      <th>洋名又名</th>\n",
       "      <th>汉名又名</th>\n",
       "      <th>无调姓</th>\n",
       "      <th>无调名</th>\n",
       "      <th>count</th>\n",
       "    </tr>\n",
       "  </thead>\n",
       "  <tbody>\n",
       "    <tr>\n",
       "      <th>1</th>\n",
       "      <td>Oded Abt</td>\n",
       "      <td>Abt</td>\n",
       "      <td>Oded</td>\n",
       "      <td>歐克德</td>\n",
       "      <td>欧克德</td>\n",
       "      <td>歐克德</td>\n",
       "      <td></td>\n",
       "      <td></td>\n",
       "      <td>Abt</td>\n",
       "      <td>Oded</td>\n",
       "      <td>1</td>\n",
       "    </tr>\n",
       "    <tr>\n",
       "      <th>43</th>\n",
       "      <td>Tonio Andrade</td>\n",
       "      <td>Andrade</td>\n",
       "      <td>Tonio</td>\n",
       "      <td>歐陽泰</td>\n",
       "      <td>欧阳泰</td>\n",
       "      <td>歐陽泰</td>\n",
       "      <td></td>\n",
       "      <td></td>\n",
       "      <td>Andrade</td>\n",
       "      <td>Tonio</td>\n",
       "      <td>1</td>\n",
       "    </tr>\n",
       "    <tr>\n",
       "      <th>56</th>\n",
       "      <td>Sare Arecanli</td>\n",
       "      <td>Arecanli</td>\n",
       "      <td>Sare</td>\n",
       "      <td>李瑞</td>\n",
       "      <td>李瑞</td>\n",
       "      <td>李瑞</td>\n",
       "      <td></td>\n",
       "      <td></td>\n",
       "      <td>Arecanli</td>\n",
       "      <td>Sare</td>\n",
       "      <td>1</td>\n",
       "    </tr>\n",
       "    <tr>\n",
       "      <th>144</th>\n",
       "      <td>Paul Benedict</td>\n",
       "      <td>Benedict</td>\n",
       "      <td>Paul</td>\n",
       "      <td>白保羅</td>\n",
       "      <td>白保罗</td>\n",
       "      <td>白保羅</td>\n",
       "      <td></td>\n",
       "      <td></td>\n",
       "      <td>Benedict</td>\n",
       "      <td>Paul</td>\n",
       "      <td>2</td>\n",
       "    </tr>\n",
       "    <tr>\n",
       "      <th>146</th>\n",
       "      <td>Gwen P. Bennett</td>\n",
       "      <td>Bennett</td>\n",
       "      <td>Gwen P.</td>\n",
       "      <td>關玉琳</td>\n",
       "      <td>关玉琳</td>\n",
       "      <td>關玉琳</td>\n",
       "      <td></td>\n",
       "      <td></td>\n",
       "      <td>Bennett</td>\n",
       "      <td>Gwen P.</td>\n",
       "      <td>2</td>\n",
       "    </tr>\n",
       "    <tr>\n",
       "      <th>...</th>\n",
       "      <td>...</td>\n",
       "      <td>...</td>\n",
       "      <td>...</td>\n",
       "      <td>...</td>\n",
       "      <td>...</td>\n",
       "      <td>...</td>\n",
       "      <td>...</td>\n",
       "      <td>...</td>\n",
       "      <td>...</td>\n",
       "      <td>...</td>\n",
       "      <td>...</td>\n",
       "    </tr>\n",
       "    <tr>\n",
       "      <th>4151</th>\n",
       "      <td>W. Pey Lucian</td>\n",
       "      <td>Lucian</td>\n",
       "      <td>W. Pey</td>\n",
       "      <td>白鲁恂</td>\n",
       "      <td>白鲁恂</td>\n",
       "      <td>白魯恂</td>\n",
       "      <td></td>\n",
       "      <td></td>\n",
       "      <td>Lucian</td>\n",
       "      <td>W. Pey</td>\n",
       "      <td>1</td>\n",
       "    </tr>\n",
       "    <tr>\n",
       "      <th>4199</th>\n",
       "      <td>Bent Nielsen</td>\n",
       "      <td>Nielsen</td>\n",
       "      <td>Bent</td>\n",
       "      <td>尼尔森</td>\n",
       "      <td>尼尔森</td>\n",
       "      <td>尼爾森</td>\n",
       "      <td></td>\n",
       "      <td></td>\n",
       "      <td>Nielsen</td>\n",
       "      <td>Bent</td>\n",
       "      <td>1</td>\n",
       "    </tr>\n",
       "    <tr>\n",
       "      <th>4225</th>\n",
       "      <td>Lucian W. Pye</td>\n",
       "      <td>Pye</td>\n",
       "      <td>Lucian W.</td>\n",
       "      <td>白鲁恂</td>\n",
       "      <td>白鲁恂</td>\n",
       "      <td>白魯恂</td>\n",
       "      <td></td>\n",
       "      <td></td>\n",
       "      <td>Pye</td>\n",
       "      <td>Lucian W.</td>\n",
       "      <td>1</td>\n",
       "    </tr>\n",
       "    <tr>\n",
       "      <th>4305</th>\n",
       "      <td>weijie Song</td>\n",
       "      <td>Song</td>\n",
       "      <td>weijie</td>\n",
       "      <td>宋伟杰</td>\n",
       "      <td>宋伟杰</td>\n",
       "      <td>宋偉傑</td>\n",
       "      <td></td>\n",
       "      <td></td>\n",
       "      <td>Song</td>\n",
       "      <td>weijie</td>\n",
       "      <td>1</td>\n",
       "    </tr>\n",
       "    <tr>\n",
       "      <th>4453</th>\n",
       "      <td>Yoshimura Yoshiko</td>\n",
       "      <td>Yoshiko</td>\n",
       "      <td>Yoshimura</td>\n",
       "      <td>吉村敬子</td>\n",
       "      <td>吉村敬子</td>\n",
       "      <td>吉村敬子</td>\n",
       "      <td></td>\n",
       "      <td></td>\n",
       "      <td>Yoshiko</td>\n",
       "      <td>Yoshimura</td>\n",
       "      <td>1</td>\n",
       "    </tr>\n",
       "  </tbody>\n",
       "</table>\n",
       "<p>66 rows × 11 columns</p>\n",
       "</div>"
      ],
      "text/plain": [
       "                     名字         姓          名   中文名    汉名    漢名 洋名又名 汉名又名  \\\n",
       "1              Oded Abt       Abt       Oded   歐克德   欧克德   歐克德             \n",
       "43        Tonio Andrade   Andrade      Tonio   歐陽泰   欧阳泰   歐陽泰             \n",
       "56        Sare Arecanli  Arecanli       Sare    李瑞    李瑞    李瑞             \n",
       "144       Paul Benedict  Benedict       Paul   白保羅   白保罗   白保羅             \n",
       "146     Gwen P. Bennett   Bennett    Gwen P.   關玉琳   关玉琳   關玉琳             \n",
       "...                 ...       ...        ...   ...   ...   ...  ...  ...   \n",
       "4151      W. Pey Lucian    Lucian     W. Pey   白鲁恂   白鲁恂   白魯恂             \n",
       "4199       Bent Nielsen   Nielsen       Bent   尼尔森   尼尔森   尼爾森             \n",
       "4225      Lucian W. Pye       Pye  Lucian W.   白鲁恂   白鲁恂   白魯恂             \n",
       "4305        weijie Song      Song     weijie   宋伟杰   宋伟杰   宋偉傑             \n",
       "4453  Yoshimura Yoshiko   Yoshiko  Yoshimura  吉村敬子  吉村敬子  吉村敬子             \n",
       "\n",
       "           无调姓         无调名  count  \n",
       "1          Abt        Oded      1  \n",
       "43     Andrade       Tonio      1  \n",
       "56    Arecanli        Sare      1  \n",
       "144   Benedict        Paul      2  \n",
       "146    Bennett     Gwen P.      2  \n",
       "...        ...         ...    ...  \n",
       "4151    Lucian      W. Pey      1  \n",
       "4199   Nielsen        Bent      1  \n",
       "4225       Pye   Lucian W.      1  \n",
       "4305      Song      weijie      1  \n",
       "4453   Yoshiko   Yoshimura      1  \n",
       "\n",
       "[66 rows x 11 columns]"
      ]
     },
     "execution_count": 126,
     "metadata": {},
     "output_type": "execute_result"
    }
   ],
   "source": [
    "saved_weird_rows"
   ]
  },
  {
   "cell_type": "code",
   "execution_count": 127,
   "metadata": {},
   "outputs": [
    {
     "data": {
      "text/html": [
       "<div>\n",
       "<style scoped>\n",
       "    .dataframe tbody tr th:only-of-type {\n",
       "        vertical-align: middle;\n",
       "    }\n",
       "\n",
       "    .dataframe tbody tr th {\n",
       "        vertical-align: top;\n",
       "    }\n",
       "\n",
       "    .dataframe thead th {\n",
       "        text-align: right;\n",
       "    }\n",
       "</style>\n",
       "<table border=\"1\" class=\"dataframe\">\n",
       "  <thead>\n",
       "    <tr style=\"text-align: right;\">\n",
       "      <th></th>\n",
       "      <th>名字</th>\n",
       "      <th>姓</th>\n",
       "      <th>名</th>\n",
       "      <th>中文名</th>\n",
       "      <th>汉名</th>\n",
       "      <th>漢名</th>\n",
       "      <th>洋名又名</th>\n",
       "      <th>汉名又名</th>\n",
       "      <th>无调姓</th>\n",
       "      <th>无调名</th>\n",
       "      <th>count</th>\n",
       "      <th>异文</th>\n",
       "    </tr>\n",
       "  </thead>\n",
       "  <tbody>\n",
       "    <tr>\n",
       "      <th>0</th>\n",
       "      <td>Pascal Abb</td>\n",
       "      <td>Abb</td>\n",
       "      <td>Pascal</td>\n",
       "      <td>艾沛思</td>\n",
       "      <td>艾沛思</td>\n",
       "      <td>艾沛思</td>\n",
       "      <td></td>\n",
       "      <td></td>\n",
       "      <td>Abb</td>\n",
       "      <td>Pascal</td>\n",
       "      <td>1</td>\n",
       "      <td>NaN</td>\n",
       "    </tr>\n",
       "    <tr>\n",
       "      <th>1</th>\n",
       "      <td>Harold Acton</td>\n",
       "      <td>Acton</td>\n",
       "      <td>Harold</td>\n",
       "      <td>艾克頓</td>\n",
       "      <td>艾克顿</td>\n",
       "      <td>艾克頓</td>\n",
       "      <td></td>\n",
       "      <td></td>\n",
       "      <td>Acton</td>\n",
       "      <td>Harold</td>\n",
       "      <td>2</td>\n",
       "      <td>NaN</td>\n",
       "    </tr>\n",
       "    <tr>\n",
       "      <th>2</th>\n",
       "      <td>Piotr Adamek</td>\n",
       "      <td>Adamek</td>\n",
       "      <td>Piotr</td>\n",
       "      <td>顧孝永</td>\n",
       "      <td>顾孝永</td>\n",
       "      <td>顧孝永</td>\n",
       "      <td></td>\n",
       "      <td></td>\n",
       "      <td>Adamek</td>\n",
       "      <td>Piotr</td>\n",
       "      <td>1</td>\n",
       "      <td>NaN</td>\n",
       "    </tr>\n",
       "    <tr>\n",
       "      <th>3</th>\n",
       "      <td>Wendi Adamek</td>\n",
       "      <td>Adamek</td>\n",
       "      <td>Wendi</td>\n",
       "      <td>韋聞笛</td>\n",
       "      <td>韦闻笛</td>\n",
       "      <td>韋聞笛</td>\n",
       "      <td></td>\n",
       "      <td></td>\n",
       "      <td>Adamek</td>\n",
       "      <td>Wendi</td>\n",
       "      <td>2</td>\n",
       "      <td>NaN</td>\n",
       "    </tr>\n",
       "    <tr>\n",
       "      <th>4</th>\n",
       "      <td>Nick Admussen</td>\n",
       "      <td>Admussen</td>\n",
       "      <td>Nick</td>\n",
       "      <td>安敏軒</td>\n",
       "      <td>安敏轩</td>\n",
       "      <td>安敏軒</td>\n",
       "      <td></td>\n",
       "      <td></td>\n",
       "      <td>Admussen</td>\n",
       "      <td>Nick</td>\n",
       "      <td>1</td>\n",
       "      <td>NaN</td>\n",
       "    </tr>\n",
       "    <tr>\n",
       "      <th>...</th>\n",
       "      <td>...</td>\n",
       "      <td>...</td>\n",
       "      <td>...</td>\n",
       "      <td>...</td>\n",
       "      <td>...</td>\n",
       "      <td>...</td>\n",
       "      <td>...</td>\n",
       "      <td>...</td>\n",
       "      <td>...</td>\n",
       "      <td>...</td>\n",
       "      <td>...</td>\n",
       "      <td>...</td>\n",
       "    </tr>\n",
       "    <tr>\n",
       "      <th>4166</th>\n",
       "      <td>Mayfair Mei-hui Yang</td>\n",
       "      <td>Yang</td>\n",
       "      <td>Mayfair Mei-hui</td>\n",
       "      <td>楊美惠</td>\n",
       "      <td>杨美惠</td>\n",
       "      <td>楊美惠</td>\n",
       "      <td></td>\n",
       "      <td></td>\n",
       "      <td>Yang</td>\n",
       "      <td>Mayfair Mei-hui</td>\n",
       "      <td>1</td>\n",
       "      <td>Mayfair Yang</td>\n",
       "    </tr>\n",
       "    <tr>\n",
       "      <th>4167</th>\n",
       "      <td>Wai Lim Yip</td>\n",
       "      <td>Yip</td>\n",
       "      <td>Wai Lim</td>\n",
       "      <td>葉維廉</td>\n",
       "      <td>叶维廉</td>\n",
       "      <td>葉維廉</td>\n",
       "      <td></td>\n",
       "      <td></td>\n",
       "      <td>Yip</td>\n",
       "      <td>Wai Lim</td>\n",
       "      <td>1</td>\n",
       "      <td>Wai-lim Yip</td>\n",
       "    </tr>\n",
       "    <tr>\n",
       "      <th>4168</th>\n",
       "      <td>Ying-shih Yü</td>\n",
       "      <td>Yü</td>\n",
       "      <td>Ying-shih</td>\n",
       "      <td>余英時</td>\n",
       "      <td>余英时</td>\n",
       "      <td>餘英時</td>\n",
       "      <td></td>\n",
       "      <td></td>\n",
       "      <td>Yu</td>\n",
       "      <td>Ying-shih</td>\n",
       "      <td>1</td>\n",
       "      <td>Ying-shih Yu</td>\n",
       "    </tr>\n",
       "    <tr>\n",
       "      <th>4169</th>\n",
       "      <td>Judith T. Zeitlin</td>\n",
       "      <td>Zeitlin</td>\n",
       "      <td>Judith T.</td>\n",
       "      <td>蔡九迪</td>\n",
       "      <td>蔡九迪</td>\n",
       "      <td>蔡九迪</td>\n",
       "      <td></td>\n",
       "      <td></td>\n",
       "      <td>Zeitlin</td>\n",
       "      <td>Judith T.</td>\n",
       "      <td>1</td>\n",
       "      <td>Judith Zeitlin</td>\n",
       "    </tr>\n",
       "    <tr>\n",
       "      <th>4170</th>\n",
       "      <td>Brook A. Ziporyn</td>\n",
       "      <td>Ziporyn</td>\n",
       "      <td>Brook A.</td>\n",
       "      <td>任博克</td>\n",
       "      <td>任博克</td>\n",
       "      <td>任博克</td>\n",
       "      <td></td>\n",
       "      <td></td>\n",
       "      <td>Ziporyn</td>\n",
       "      <td>Brook A.</td>\n",
       "      <td>1</td>\n",
       "      <td>Brook Ziporyn</td>\n",
       "    </tr>\n",
       "  </tbody>\n",
       "</table>\n",
       "<p>4171 rows × 12 columns</p>\n",
       "</div>"
      ],
      "text/plain": [
       "                        名字         姓                名  中文名   汉名   漢名 洋名又名  \\\n",
       "0               Pascal Abb       Abb           Pascal  艾沛思  艾沛思  艾沛思        \n",
       "1             Harold Acton     Acton           Harold  艾克頓  艾克顿  艾克頓        \n",
       "2             Piotr Adamek    Adamek            Piotr  顧孝永  顾孝永  顧孝永        \n",
       "3             Wendi Adamek    Adamek            Wendi  韋聞笛  韦闻笛  韋聞笛        \n",
       "4            Nick Admussen  Admussen             Nick  安敏軒  安敏轩  安敏軒        \n",
       "...                    ...       ...              ...  ...  ...  ...  ...   \n",
       "4166  Mayfair Mei-hui Yang      Yang  Mayfair Mei-hui  楊美惠  杨美惠  楊美惠        \n",
       "4167           Wai Lim Yip       Yip          Wai Lim  葉維廉  叶维廉  葉維廉        \n",
       "4168          Ying-shih Yü        Yü        Ying-shih  余英時  余英时  餘英時        \n",
       "4169     Judith T. Zeitlin   Zeitlin        Judith T.  蔡九迪  蔡九迪  蔡九迪        \n",
       "4170      Brook A. Ziporyn   Ziporyn         Brook A.  任博克  任博克  任博克        \n",
       "\n",
       "     汉名又名       无调姓               无调名  count              异文  \n",
       "0               Abb            Pascal      1             NaN  \n",
       "1             Acton            Harold      2             NaN  \n",
       "2            Adamek             Piotr      1             NaN  \n",
       "3            Adamek             Wendi      2             NaN  \n",
       "4          Admussen              Nick      1             NaN  \n",
       "...   ...       ...               ...    ...             ...  \n",
       "4166           Yang   Mayfair Mei-hui      1    Mayfair Yang  \n",
       "4167            Yip           Wai Lim      1     Wai-lim Yip  \n",
       "4168             Yu         Ying-shih      1    Ying-shih Yu  \n",
       "4169        Zeitlin         Judith T.      1  Judith Zeitlin  \n",
       "4170        Ziporyn          Brook A.      1   Brook Ziporyn  \n",
       "\n",
       "[4171 rows x 12 columns]"
      ]
     },
     "execution_count": 127,
     "metadata": {},
     "output_type": "execute_result"
    }
   ],
   "source": [
    "quasi_final_data"
   ]
  },
  {
   "cell_type": "code",
   "execution_count": 128,
   "metadata": {},
   "outputs": [
    {
     "data": {
      "text/html": [
       "<div>\n",
       "<style scoped>\n",
       "    .dataframe tbody tr th:only-of-type {\n",
       "        vertical-align: middle;\n",
       "    }\n",
       "\n",
       "    .dataframe tbody tr th {\n",
       "        vertical-align: top;\n",
       "    }\n",
       "\n",
       "    .dataframe thead th {\n",
       "        text-align: right;\n",
       "    }\n",
       "</style>\n",
       "<table border=\"1\" class=\"dataframe\">\n",
       "  <thead>\n",
       "    <tr style=\"text-align: right;\">\n",
       "      <th></th>\n",
       "      <th>名字</th>\n",
       "      <th>姓</th>\n",
       "      <th>名</th>\n",
       "      <th>中文名</th>\n",
       "      <th>汉名</th>\n",
       "      <th>漢名</th>\n",
       "      <th>洋名又名</th>\n",
       "      <th>汉名又名</th>\n",
       "      <th>无调姓</th>\n",
       "      <th>无调名</th>\n",
       "      <th>count</th>\n",
       "      <th>异文</th>\n",
       "    </tr>\n",
       "  </thead>\n",
       "  <tbody>\n",
       "    <tr>\n",
       "      <th>0</th>\n",
       "      <td>Pascal Abb</td>\n",
       "      <td>Abb</td>\n",
       "      <td>Pascal</td>\n",
       "      <td>艾沛思</td>\n",
       "      <td>艾沛思</td>\n",
       "      <td>艾沛思</td>\n",
       "      <td></td>\n",
       "      <td></td>\n",
       "      <td>Abb</td>\n",
       "      <td>Pascal</td>\n",
       "      <td>1</td>\n",
       "      <td></td>\n",
       "    </tr>\n",
       "    <tr>\n",
       "      <th>1</th>\n",
       "      <td>Harold Acton</td>\n",
       "      <td>Acton</td>\n",
       "      <td>Harold</td>\n",
       "      <td>艾克頓</td>\n",
       "      <td>艾克顿</td>\n",
       "      <td>艾克頓</td>\n",
       "      <td></td>\n",
       "      <td></td>\n",
       "      <td>Acton</td>\n",
       "      <td>Harold</td>\n",
       "      <td>2</td>\n",
       "      <td></td>\n",
       "    </tr>\n",
       "    <tr>\n",
       "      <th>2</th>\n",
       "      <td>Piotr Adamek</td>\n",
       "      <td>Adamek</td>\n",
       "      <td>Piotr</td>\n",
       "      <td>顧孝永</td>\n",
       "      <td>顾孝永</td>\n",
       "      <td>顧孝永</td>\n",
       "      <td></td>\n",
       "      <td></td>\n",
       "      <td>Adamek</td>\n",
       "      <td>Piotr</td>\n",
       "      <td>1</td>\n",
       "      <td></td>\n",
       "    </tr>\n",
       "    <tr>\n",
       "      <th>3</th>\n",
       "      <td>Wendi Adamek</td>\n",
       "      <td>Adamek</td>\n",
       "      <td>Wendi</td>\n",
       "      <td>韋聞笛</td>\n",
       "      <td>韦闻笛</td>\n",
       "      <td>韋聞笛</td>\n",
       "      <td></td>\n",
       "      <td></td>\n",
       "      <td>Adamek</td>\n",
       "      <td>Wendi</td>\n",
       "      <td>2</td>\n",
       "      <td></td>\n",
       "    </tr>\n",
       "    <tr>\n",
       "      <th>4</th>\n",
       "      <td>Nick Admussen</td>\n",
       "      <td>Admussen</td>\n",
       "      <td>Nick</td>\n",
       "      <td>安敏軒</td>\n",
       "      <td>安敏轩</td>\n",
       "      <td>安敏軒</td>\n",
       "      <td></td>\n",
       "      <td></td>\n",
       "      <td>Admussen</td>\n",
       "      <td>Nick</td>\n",
       "      <td>1</td>\n",
       "      <td></td>\n",
       "    </tr>\n",
       "    <tr>\n",
       "      <th>...</th>\n",
       "      <td>...</td>\n",
       "      <td>...</td>\n",
       "      <td>...</td>\n",
       "      <td>...</td>\n",
       "      <td>...</td>\n",
       "      <td>...</td>\n",
       "      <td>...</td>\n",
       "      <td>...</td>\n",
       "      <td>...</td>\n",
       "      <td>...</td>\n",
       "      <td>...</td>\n",
       "      <td>...</td>\n",
       "    </tr>\n",
       "    <tr>\n",
       "      <th>4166</th>\n",
       "      <td>Mayfair Mei-hui Yang</td>\n",
       "      <td>Yang</td>\n",
       "      <td>Mayfair Mei-hui</td>\n",
       "      <td>楊美惠</td>\n",
       "      <td>杨美惠</td>\n",
       "      <td>楊美惠</td>\n",
       "      <td></td>\n",
       "      <td></td>\n",
       "      <td>Yang</td>\n",
       "      <td>Mayfair Mei-hui</td>\n",
       "      <td>1</td>\n",
       "      <td>Mayfair Yang</td>\n",
       "    </tr>\n",
       "    <tr>\n",
       "      <th>4167</th>\n",
       "      <td>Wai Lim Yip</td>\n",
       "      <td>Yip</td>\n",
       "      <td>Wai Lim</td>\n",
       "      <td>葉維廉</td>\n",
       "      <td>叶维廉</td>\n",
       "      <td>葉維廉</td>\n",
       "      <td></td>\n",
       "      <td></td>\n",
       "      <td>Yip</td>\n",
       "      <td>Wai Lim</td>\n",
       "      <td>1</td>\n",
       "      <td>Wai-lim Yip</td>\n",
       "    </tr>\n",
       "    <tr>\n",
       "      <th>4168</th>\n",
       "      <td>Ying-shih Yü</td>\n",
       "      <td>Yü</td>\n",
       "      <td>Ying-shih</td>\n",
       "      <td>余英時</td>\n",
       "      <td>余英时</td>\n",
       "      <td>餘英時</td>\n",
       "      <td></td>\n",
       "      <td></td>\n",
       "      <td>Yu</td>\n",
       "      <td>Ying-shih</td>\n",
       "      <td>1</td>\n",
       "      <td>Ying-shih Yu</td>\n",
       "    </tr>\n",
       "    <tr>\n",
       "      <th>4169</th>\n",
       "      <td>Judith T. Zeitlin</td>\n",
       "      <td>Zeitlin</td>\n",
       "      <td>Judith T.</td>\n",
       "      <td>蔡九迪</td>\n",
       "      <td>蔡九迪</td>\n",
       "      <td>蔡九迪</td>\n",
       "      <td></td>\n",
       "      <td></td>\n",
       "      <td>Zeitlin</td>\n",
       "      <td>Judith T.</td>\n",
       "      <td>1</td>\n",
       "      <td>Judith Zeitlin</td>\n",
       "    </tr>\n",
       "    <tr>\n",
       "      <th>4170</th>\n",
       "      <td>Brook A. Ziporyn</td>\n",
       "      <td>Ziporyn</td>\n",
       "      <td>Brook A.</td>\n",
       "      <td>任博克</td>\n",
       "      <td>任博克</td>\n",
       "      <td>任博克</td>\n",
       "      <td></td>\n",
       "      <td></td>\n",
       "      <td>Ziporyn</td>\n",
       "      <td>Brook A.</td>\n",
       "      <td>1</td>\n",
       "      <td>Brook Ziporyn</td>\n",
       "    </tr>\n",
       "  </tbody>\n",
       "</table>\n",
       "<p>4171 rows × 12 columns</p>\n",
       "</div>"
      ],
      "text/plain": [
       "                        名字         姓                名  中文名   汉名   漢名 洋名又名  \\\n",
       "0               Pascal Abb       Abb           Pascal  艾沛思  艾沛思  艾沛思        \n",
       "1             Harold Acton     Acton           Harold  艾克頓  艾克顿  艾克頓        \n",
       "2             Piotr Adamek    Adamek            Piotr  顧孝永  顾孝永  顧孝永        \n",
       "3             Wendi Adamek    Adamek            Wendi  韋聞笛  韦闻笛  韋聞笛        \n",
       "4            Nick Admussen  Admussen             Nick  安敏軒  安敏轩  安敏軒        \n",
       "...                    ...       ...              ...  ...  ...  ...  ...   \n",
       "4166  Mayfair Mei-hui Yang      Yang  Mayfair Mei-hui  楊美惠  杨美惠  楊美惠        \n",
       "4167           Wai Lim Yip       Yip          Wai Lim  葉維廉  叶维廉  葉維廉        \n",
       "4168          Ying-shih Yü        Yü        Ying-shih  余英時  余英时  餘英時        \n",
       "4169     Judith T. Zeitlin   Zeitlin        Judith T.  蔡九迪  蔡九迪  蔡九迪        \n",
       "4170      Brook A. Ziporyn   Ziporyn         Brook A.  任博克  任博克  任博克        \n",
       "\n",
       "     汉名又名       无调姓               无调名  count              异文  \n",
       "0               Abb            Pascal      1                  \n",
       "1             Acton            Harold      2                  \n",
       "2            Adamek             Piotr      1                  \n",
       "3            Adamek             Wendi      2                  \n",
       "4          Admussen              Nick      1                  \n",
       "...   ...       ...               ...    ...             ...  \n",
       "4166           Yang   Mayfair Mei-hui      1    Mayfair Yang  \n",
       "4167            Yip           Wai Lim      1     Wai-lim Yip  \n",
       "4168             Yu         Ying-shih      1    Ying-shih Yu  \n",
       "4169        Zeitlin         Judith T.      1  Judith Zeitlin  \n",
       "4170        Ziporyn          Brook A.      1   Brook Ziporyn  \n",
       "\n",
       "[4171 rows x 12 columns]"
      ]
     },
     "execution_count": 128,
     "metadata": {},
     "output_type": "execute_result"
    }
   ],
   "source": [
    "quasi_final_data.fillna('')"
   ]
  },
  {
   "cell_type": "code",
   "execution_count": 142,
   "metadata": {},
   "outputs": [],
   "source": [
    "final_data = quasi_final_data.append(saved_weird_rows,ignore_index=True)"
   ]
  },
  {
   "cell_type": "code",
   "execution_count": 143,
   "metadata": {},
   "outputs": [
    {
     "name": "stdout",
     "output_type": "stream",
     "text": [
      "Stefan\n",
      "~ Chün-mai\n",
      "Vincent\n",
      "Handlin， Joanna Smith\n",
      "Edward\n",
      "aka Red Pine\n",
      "Mandy\n",
      "Domingo\n",
      "Mary\n",
      "S. F. Lai\n",
      "Cheuk-woon Taam\n",
      "~ William H. III\n",
      "Rulan Chao Pian\n"
     ]
    }
   ],
   "source": [
    "for index,row in final_data.iterrows():\n",
    "    v_en_name = row['洋名又名']\n",
    "    if len(v_en_name) > 1:\n",
    "        final_data.loc[index,['异文']] += '、' + v_en_name\n",
    "        print(v_en_name)\n",
    "    v_zh_name = row['汉名又名']\n",
    "    if len(v_zh_name) > 1:\n",
    "        final_data.loc[index,['异文']] += '、' + v_zh_name"
   ]
  },
  {
   "cell_type": "code",
   "execution_count": 144,
   "metadata": {},
   "outputs": [],
   "source": [
    "final_data = final_data.drop(['洋名又名','汉名又名'],axis=1).sort_values('姓')"
   ]
  },
  {
   "cell_type": "code",
   "execution_count": 145,
   "metadata": {},
   "outputs": [
    {
     "data": {
      "text/plain": [
       "(4237, 10)"
      ]
     },
     "execution_count": 145,
     "metadata": {},
     "output_type": "execute_result"
    }
   ],
   "source": [
    "final_data.shape"
   ]
  },
  {
   "cell_type": "code",
   "execution_count": 146,
   "metadata": {},
   "outputs": [],
   "source": [
    "final_data.to_excel('OMG9.xlsx')"
   ]
  }
 ],
 "metadata": {
  "kernelspec": {
   "display_name": "Python 3",
   "language": "python",
   "name": "python3"
  },
  "language_info": {
   "codemirror_mode": {
    "name": "ipython",
    "version": 3
   },
   "file_extension": ".py",
   "mimetype": "text/x-python",
   "name": "python",
   "nbconvert_exporter": "python",
   "pygments_lexer": "ipython3",
   "version": "3.7.7"
  }
 },
 "nbformat": 4,
 "nbformat_minor": 4
}
