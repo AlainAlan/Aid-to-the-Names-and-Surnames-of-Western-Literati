{
 "cells": [
  {
   "cell_type": "code",
   "execution_count": 1,
   "metadata": {},
   "outputs": [],
   "source": [
    "import pandas as pd"
   ]
  },
  {
   "cell_type": "code",
   "execution_count": 2,
   "metadata": {},
   "outputs": [
    {
     "output_type": "stream",
     "name": "stdout",
     "text": [
      "<class 'pandas.core.frame.DataFrame'>\n                   名字           姓        名  中文名   汉名   漢名 洋名又名 汉名又名  \\\n0         David Zweig       Zweig    David  崔大偉  崔大伟  崔大偉  NaN  NaN   \n1  Harriet Zurndorfer  Zurndorfer  Harriet  宋汉理  宋汉理  宋漢理  NaN  NaN   \n2  Harriet Zurndorfer  Zurndorfer  Harriet  宋漢理  宋汉理  宋漢理  NaN  NaN   \n3        Erik Zürcher     Zürcher     Erik  許理和  许理和  許理和  NaN  NaN   \n4        Erik Zürcher     Zürcher     Erik  许理和  许理和  許理和  NaN  NaN   \n\n          无调姓       无调名  所见次数  生年  卒年   族裔   备注  \n0       Zweig     David   NaN NaN NaN  NaN  NaN  \n1  Zurndorfer   Harriet   NaN NaN NaN  NaN  NaN  \n2  Zurndorfer   Harriet   NaN NaN NaN  NaN  NaN  \n3     Zurcher      Erik   NaN NaN NaN  NaN  NaN  \n4     Zurcher      Erik   NaN NaN NaN  NaN  NaN  \n"
     ]
    }
   ],
   "source": [
    "df = pd.read_excel('OMG5.xlsx')\n",
    "print(type(df))\n",
    "print(df[0:5])"
   ]
  },
  {
   "cell_type": "code",
   "execution_count": 3,
   "metadata": {},
   "outputs": [
    {
     "output_type": "execute_result",
     "data": {
      "text/plain": [
       "                      名字           姓        名   中文名    汉名    漢名 洋名又名 汉名又名  \\\n",
       "0            David Zweig       Zweig    David   崔大偉   崔大伟   崔大偉    0    0   \n",
       "1     Harriet Zurndorfer  Zurndorfer  Harriet   宋汉理   宋汉理   宋漢理    0    0   \n",
       "2     Harriet Zurndorfer  Zurndorfer  Harriet   宋漢理   宋汉理   宋漢理    0    0   \n",
       "3           Erik Zürcher     Zürcher     Erik   許理和   许理和   許理和    0    0   \n",
       "4           Erik Zürcher     Zürcher     Erik   许理和   许理和   許理和    0    0   \n",
       "...                  ...         ...      ...   ...   ...   ...  ...  ...   \n",
       "5472        Harold Acton       Acton   Harold   艾克頓   艾克顿   艾克頓    0    0   \n",
       "5473        Pedro Acosta      Acosta    Pedro   柯彼得   柯彼得   柯彼得    0    0   \n",
       "5474            Oded Abt         Abt     Oded   歐克德   欧克德   歐克德    0    0   \n",
       "5475         Stanley Abe         Abe  Stanley  阿部贤次  阿部贤次  阿部賢次    0    0   \n",
       "5476          Pascal Abb         Abb   Pascal   艾沛思   艾沛思   艾沛思    0    0   \n",
       "\n",
       "             无调姓       无调名  所见次数   生年   卒年 族裔 备注                     去重专用  \n",
       "0          Zweig     David   0.0  0.0  0.0  0  0          崔大偉，Zweig，David  \n",
       "1     Zurndorfer   Harriet   0.0  0.0  0.0  0  0  宋漢理，Zurndorfer， Harriet  \n",
       "2     Zurndorfer   Harriet   0.0  0.0  0.0  0  0  宋漢理，Zurndorfer， Harriet  \n",
       "3        Zurcher      Erik   0.0  0.0  0.0  0  0        許理和，Zurcher， Erik  \n",
       "4        Zurcher      Erik   0.0  0.0  0.0  0  0        許理和，Zurcher， Erik  \n",
       "...          ...       ...   ...  ...  ... .. ..                      ...  \n",
       "5472       Acton    Harold   0.0  0.0  0.0  0  0        艾克頓，Acton， Harold  \n",
       "5473      Acosta     Pedro   0.0  0.0  0.0  0  0        柯彼得，Acosta， Pedro  \n",
       "5474         Abt      Oded   0.0  0.0  0.0  0  0            歐克德，Abt， Oded  \n",
       "5475         Abe   Stanley   0.0  0.0  0.0  0  0        阿部賢次，Abe， Stanley  \n",
       "5476         Abb    Pascal   0.0  0.0  0.0  0  0          艾沛思，Abb， Pascal  \n",
       "\n",
       "[5477 rows x 16 columns]"
      ],
      "text/html": "<div>\n<style scoped>\n    .dataframe tbody tr th:only-of-type {\n        vertical-align: middle;\n    }\n\n    .dataframe tbody tr th {\n        vertical-align: top;\n    }\n\n    .dataframe thead th {\n        text-align: right;\n    }\n</style>\n<table border=\"1\" class=\"dataframe\">\n  <thead>\n    <tr style=\"text-align: right;\">\n      <th></th>\n      <th>名字</th>\n      <th>姓</th>\n      <th>名</th>\n      <th>中文名</th>\n      <th>汉名</th>\n      <th>漢名</th>\n      <th>洋名又名</th>\n      <th>汉名又名</th>\n      <th>无调姓</th>\n      <th>无调名</th>\n      <th>所见次数</th>\n      <th>生年</th>\n      <th>卒年</th>\n      <th>族裔</th>\n      <th>备注</th>\n      <th>去重专用</th>\n    </tr>\n  </thead>\n  <tbody>\n    <tr>\n      <th>0</th>\n      <td>David Zweig</td>\n      <td>Zweig</td>\n      <td>David</td>\n      <td>崔大偉</td>\n      <td>崔大伟</td>\n      <td>崔大偉</td>\n      <td>0</td>\n      <td>0</td>\n      <td>Zweig</td>\n      <td>David</td>\n      <td>0.0</td>\n      <td>0.0</td>\n      <td>0.0</td>\n      <td>0</td>\n      <td>0</td>\n      <td>崔大偉，Zweig，David</td>\n    </tr>\n    <tr>\n      <th>1</th>\n      <td>Harriet Zurndorfer</td>\n      <td>Zurndorfer</td>\n      <td>Harriet</td>\n      <td>宋汉理</td>\n      <td>宋汉理</td>\n      <td>宋漢理</td>\n      <td>0</td>\n      <td>0</td>\n      <td>Zurndorfer</td>\n      <td>Harriet</td>\n      <td>0.0</td>\n      <td>0.0</td>\n      <td>0.0</td>\n      <td>0</td>\n      <td>0</td>\n      <td>宋漢理，Zurndorfer， Harriet</td>\n    </tr>\n    <tr>\n      <th>2</th>\n      <td>Harriet Zurndorfer</td>\n      <td>Zurndorfer</td>\n      <td>Harriet</td>\n      <td>宋漢理</td>\n      <td>宋汉理</td>\n      <td>宋漢理</td>\n      <td>0</td>\n      <td>0</td>\n      <td>Zurndorfer</td>\n      <td>Harriet</td>\n      <td>0.0</td>\n      <td>0.0</td>\n      <td>0.0</td>\n      <td>0</td>\n      <td>0</td>\n      <td>宋漢理，Zurndorfer， Harriet</td>\n    </tr>\n    <tr>\n      <th>3</th>\n      <td>Erik Zürcher</td>\n      <td>Zürcher</td>\n      <td>Erik</td>\n      <td>許理和</td>\n      <td>许理和</td>\n      <td>許理和</td>\n      <td>0</td>\n      <td>0</td>\n      <td>Zurcher</td>\n      <td>Erik</td>\n      <td>0.0</td>\n      <td>0.0</td>\n      <td>0.0</td>\n      <td>0</td>\n      <td>0</td>\n      <td>許理和，Zurcher， Erik</td>\n    </tr>\n    <tr>\n      <th>4</th>\n      <td>Erik Zürcher</td>\n      <td>Zürcher</td>\n      <td>Erik</td>\n      <td>许理和</td>\n      <td>许理和</td>\n      <td>許理和</td>\n      <td>0</td>\n      <td>0</td>\n      <td>Zurcher</td>\n      <td>Erik</td>\n      <td>0.0</td>\n      <td>0.0</td>\n      <td>0.0</td>\n      <td>0</td>\n      <td>0</td>\n      <td>許理和，Zurcher， Erik</td>\n    </tr>\n    <tr>\n      <th>...</th>\n      <td>...</td>\n      <td>...</td>\n      <td>...</td>\n      <td>...</td>\n      <td>...</td>\n      <td>...</td>\n      <td>...</td>\n      <td>...</td>\n      <td>...</td>\n      <td>...</td>\n      <td>...</td>\n      <td>...</td>\n      <td>...</td>\n      <td>...</td>\n      <td>...</td>\n      <td>...</td>\n    </tr>\n    <tr>\n      <th>5472</th>\n      <td>Harold Acton</td>\n      <td>Acton</td>\n      <td>Harold</td>\n      <td>艾克頓</td>\n      <td>艾克顿</td>\n      <td>艾克頓</td>\n      <td>0</td>\n      <td>0</td>\n      <td>Acton</td>\n      <td>Harold</td>\n      <td>0.0</td>\n      <td>0.0</td>\n      <td>0.0</td>\n      <td>0</td>\n      <td>0</td>\n      <td>艾克頓，Acton， Harold</td>\n    </tr>\n    <tr>\n      <th>5473</th>\n      <td>Pedro Acosta</td>\n      <td>Acosta</td>\n      <td>Pedro</td>\n      <td>柯彼得</td>\n      <td>柯彼得</td>\n      <td>柯彼得</td>\n      <td>0</td>\n      <td>0</td>\n      <td>Acosta</td>\n      <td>Pedro</td>\n      <td>0.0</td>\n      <td>0.0</td>\n      <td>0.0</td>\n      <td>0</td>\n      <td>0</td>\n      <td>柯彼得，Acosta， Pedro</td>\n    </tr>\n    <tr>\n      <th>5474</th>\n      <td>Oded Abt</td>\n      <td>Abt</td>\n      <td>Oded</td>\n      <td>歐克德</td>\n      <td>欧克德</td>\n      <td>歐克德</td>\n      <td>0</td>\n      <td>0</td>\n      <td>Abt</td>\n      <td>Oded</td>\n      <td>0.0</td>\n      <td>0.0</td>\n      <td>0.0</td>\n      <td>0</td>\n      <td>0</td>\n      <td>歐克德，Abt， Oded</td>\n    </tr>\n    <tr>\n      <th>5475</th>\n      <td>Stanley Abe</td>\n      <td>Abe</td>\n      <td>Stanley</td>\n      <td>阿部贤次</td>\n      <td>阿部贤次</td>\n      <td>阿部賢次</td>\n      <td>0</td>\n      <td>0</td>\n      <td>Abe</td>\n      <td>Stanley</td>\n      <td>0.0</td>\n      <td>0.0</td>\n      <td>0.0</td>\n      <td>0</td>\n      <td>0</td>\n      <td>阿部賢次，Abe， Stanley</td>\n    </tr>\n    <tr>\n      <th>5476</th>\n      <td>Pascal Abb</td>\n      <td>Abb</td>\n      <td>Pascal</td>\n      <td>艾沛思</td>\n      <td>艾沛思</td>\n      <td>艾沛思</td>\n      <td>0</td>\n      <td>0</td>\n      <td>Abb</td>\n      <td>Pascal</td>\n      <td>0.0</td>\n      <td>0.0</td>\n      <td>0.0</td>\n      <td>0</td>\n      <td>0</td>\n      <td>艾沛思，Abb， Pascal</td>\n    </tr>\n  </tbody>\n</table>\n<p>5477 rows × 16 columns</p>\n</div>"
     },
     "metadata": {},
     "execution_count": 3
    }
   ],
   "source": [
    "df['去重专用'] = df['漢名'] + '，' + df['无调姓'] + '，'+ df['无调名']\n",
    "df.fillna(0)"
   ]
  },
  {
   "cell_type": "code",
   "execution_count": 4,
   "metadata": {
    "scrolled": true
   },
   "outputs": [
    {
     "output_type": "stream",
     "name": "stdout",
     "text": [
      "                名字       姓        名   中文名    汉名    漢名 洋名又名 汉名又名     无调姓  \\\n5472  Harold Acton   Acton   Harold   艾克頓   艾克顿   艾克頓  NaN  NaN   Acton   \n5473  Pedro Acosta  Acosta    Pedro   柯彼得   柯彼得   柯彼得  NaN  NaN  Acosta   \n5474      Oded Abt     Abt     Oded   歐克德   欧克德   歐克德  NaN  NaN     Abt   \n5475   Stanley Abe     Abe  Stanley  阿部贤次  阿部贤次  阿部賢次  NaN  NaN     Abe   \n5476    Pascal Abb     Abb   Pascal   艾沛思   艾沛思   艾沛思  NaN  NaN     Abb   \n\n           无调名  所见次数  生年  卒年   族裔   备注               去重专用  \n5472    Harold   NaN NaN NaN  NaN  NaN  艾克頓，Acton， Harold  \n5473     Pedro   NaN NaN NaN  NaN  NaN  柯彼得，Acosta， Pedro  \n5474      Oded   NaN NaN NaN  NaN  NaN      歐克德，Abt， Oded  \n5475   Stanley   NaN NaN NaN  NaN  NaN  阿部賢次，Abe， Stanley  \n5476    Pascal   NaN NaN NaN  NaN  NaN    艾沛思，Abb， Pascal  \n"
     ]
    }
   ],
   "source": [
    "print(df[-5:])"
   ]
  },
  {
   "cell_type": "code",
   "execution_count": 5,
   "metadata": {},
   "outputs": [],
   "source": [
    "# 修改个别值的办法\n",
    "# df.loc[5476,('去重专用')] = ['崔大伟']\n",
    "# test_dict_df.loc[1:1,('english','id','math','name')]=[90,2,100,'Alice_m']\n",
    "# https://www.jb51.net/article/166828.htm"
   ]
  },
  {
   "cell_type": "code",
   "execution_count": 6,
   "metadata": {},
   "outputs": [
    {
     "output_type": "execute_result",
     "data": {
      "text/plain": [
       "(5477, 16)"
      ]
     },
     "metadata": {},
     "execution_count": 6
    }
   ],
   "source": [
    "df.shape"
   ]
  },
  {
   "cell_type": "code",
   "execution_count": 7,
   "metadata": {
    "scrolled": true
   },
   "outputs": [
    {
     "output_type": "stream",
     "name": "stdout",
     "text": [
      "0       False\n1        True\n2        True\n3        True\n4        True\n        ...  \n5472     True\n5473    False\n5474    False\n5475    False\n5476    False\nLength: 5477, dtype: bool\n"
     ]
    }
   ],
   "source": [
    "# 先計數吧\n",
    "duplicate_row = df.duplicated(['去重专用'],keep=False) \n",
    "print(duplicate_row)"
   ]
  },
  {
   "cell_type": "code",
   "execution_count": 8,
   "metadata": {
    "scrolled": true
   },
   "outputs": [
    {
     "output_type": "stream",
     "name": "stdout",
     "text": [
      "                   名字           姓        名  中文名   汉名   漢名 洋名又名 汉名又名  \\\n1  Harriet Zurndorfer  Zurndorfer  Harriet  宋汉理  宋汉理  宋漢理  NaN  NaN   \n2  Harriet Zurndorfer  Zurndorfer  Harriet  宋漢理  宋汉理  宋漢理  NaN  NaN   \n3        Erik Zürcher     Zürcher     Erik  許理和  许理和  許理和  NaN  NaN   \n4        Erik Zürcher     Zürcher     Erik  许理和  许理和  許理和  NaN  NaN   \n5          Jiping Zuo         Zuo   Jiping  左际平  左际平  左際平  NaN  NaN   \n6          Jiping Zuo         Zuo   Jiping  左際平  左际平  左際平  NaN  NaN   \n\n          无调姓       无调名  所见次数  生年  卒年   族裔   备注                     去重专用  \n1  Zurndorfer   Harriet   NaN NaN NaN  NaN  NaN  宋漢理，Zurndorfer， Harriet  \n2  Zurndorfer   Harriet   NaN NaN NaN  NaN  NaN  宋漢理，Zurndorfer， Harriet  \n3     Zurcher      Erik   NaN NaN NaN  NaN  NaN        許理和，Zurcher， Erik  \n4     Zurcher      Erik   NaN NaN NaN  NaN  NaN        許理和，Zurcher， Erik  \n5         Zuo    Jiping   NaN NaN NaN  NaN  NaN          左際平，Zuo， Jiping  \n6         Zuo    Jiping   NaN NaN NaN  NaN  NaN          左際平，Zuo， Jiping  \n"
     ]
    }
   ],
   "source": [
    "duplicate_data = df.loc[duplicate_row,:]\n",
    "print(duplicate_data[0:6])\n",
    "# 这是所有在严格意义上重复的数据，没得讲，计算重复次数，然后保留其一"
   ]
  },
  {
   "cell_type": "code",
   "execution_count": 9,
   "metadata": {},
   "outputs": [],
   "source": [
    "count_df = df['去重专用'].value_counts().to_frame().reset_index().rename(columns={'index':'Name','去重专用':'count'})\n",
    "\n",
    "# df['values'].value_counts().to_frame().reset_index().rename(columns={'index':'values', 'values':'count'})"
   ]
  },
  {
   "cell_type": "code",
   "execution_count": 10,
   "metadata": {},
   "outputs": [],
   "source": [
    "df1 = df.drop_duplicates(['去重专用'])"
   ]
  },
  {
   "cell_type": "code",
   "execution_count": 12,
   "metadata": {},
   "outputs": [
    {
     "output_type": "stream",
     "name": "stdout",
     "text": [
      "                      名字           姓        名   中文名    汉名    漢名 洋名又名 汉名又名  \\\n0            David Zweig       Zweig    David   崔大偉   崔大伟   崔大偉  NaN  NaN   \n1     Harriet Zurndorfer  Zurndorfer  Harriet   宋汉理   宋汉理   宋漢理  NaN  NaN   \n2           Erik Zürcher     Zürcher     Erik   許理和   许理和   許理和  NaN  NaN   \n3             Jiping Zuo         Zuo   Jiping   左际平   左际平   左際平  NaN  NaN   \n4            Xuejing Zuo         Zuo  Xuejing   左雪靜   左雪静   左雪靜  NaN  NaN   \n...                  ...         ...      ...   ...   ...   ...  ...  ...   \n4302        Harold Acton       Acton   Harold   艾克顿   艾克顿   艾克頓  NaN  NaN   \n4303        Pedro Acosta      Acosta    Pedro   柯彼得   柯彼得   柯彼得  NaN  NaN   \n4304            Oded Abt         Abt     Oded   歐克德   欧克德   歐克德  NaN  NaN   \n4305         Stanley Abe         Abe  Stanley  阿部贤次  阿部贤次  阿部賢次  NaN  NaN   \n4306          Pascal Abb         Abb   Pascal   艾沛思   艾沛思   艾沛思  NaN  NaN   \n\n             无调姓       无调名  所见次数  生年  卒年   族裔   备注                     去重专用  \\\n0          Zweig     David   NaN NaN NaN  NaN  NaN          崔大偉，Zweig，David   \n1     Zurndorfer   Harriet   NaN NaN NaN  NaN  NaN  宋漢理，Zurndorfer， Harriet   \n2        Zurcher      Erik   NaN NaN NaN  NaN  NaN        許理和，Zurcher， Erik   \n3            Zuo    Jiping   NaN NaN NaN  NaN  NaN          左際平，Zuo， Jiping   \n4            Zuo   Xuejing   NaN NaN NaN  NaN  NaN         左雪靜，Zuo， Xuejing   \n...          ...       ...   ...  ..  ..  ...  ...                      ...   \n4302       Acton    Harold   NaN NaN NaN  NaN  NaN        艾克頓，Acton， Harold   \n4303      Acosta     Pedro   NaN NaN NaN  NaN  NaN        柯彼得，Acosta， Pedro   \n4304         Abt      Oded   NaN NaN NaN  NaN  NaN            歐克德，Abt， Oded   \n4305         Abe   Stanley   NaN NaN NaN  NaN  NaN        阿部賢次，Abe， Stanley   \n4306         Abb    Pascal   NaN NaN NaN  NaN  NaN          艾沛思，Abb， Pascal   \n\n                         Name  count  \n0             崔大偉，Zweig，David      1  \n1     宋漢理，Zurndorfer， Harriet      2  \n2           許理和，Zurcher， Erik      2  \n3             左際平，Zuo， Jiping      2  \n4            左雪靜，Zuo， Xuejing      1  \n...                       ...    ...  \n4302        艾克頓，Acton， Harold      2  \n4303        柯彼得，Acosta， Pedro      1  \n4304            歐克德，Abt， Oded      1  \n4305        阿部賢次，Abe， Stanley      1  \n4306          艾沛思，Abb， Pascal      1  \n\n[4307 rows x 18 columns]\n"
     ]
    }
   ],
   "source": [
    "df3_with_count = pd.merge(df1, count_df, left_on='去重专用',right_on='Name')\n",
    "print(df3_with_count)"
   ]
  },
  {
   "cell_type": "code",
   "execution_count": 13,
   "metadata": {},
   "outputs": [],
   "source": [
    "df3_with_count = df3_with_count.fillna(0)"
   ]
  },
  {
   "cell_type": "code",
   "execution_count": 14,
   "metadata": {},
   "outputs": [
    {
     "output_type": "execute_result",
     "data": {
      "text/plain": [
       "Empty DataFrame\n",
       "Columns: [名字, 姓, 名, 中文名, 汉名, 漢名, 洋名又名, 汉名又名, 无调姓, 无调名, 所见次数, 生年, 卒年, 族裔, 备注, 去重专用, Name, count]\n",
       "Index: []"
      ],
      "text/html": "<div>\n<style scoped>\n    .dataframe tbody tr th:only-of-type {\n        vertical-align: middle;\n    }\n\n    .dataframe tbody tr th {\n        vertical-align: top;\n    }\n\n    .dataframe thead th {\n        text-align: right;\n    }\n</style>\n<table border=\"1\" class=\"dataframe\">\n  <thead>\n    <tr style=\"text-align: right;\">\n      <th></th>\n      <th>名字</th>\n      <th>姓</th>\n      <th>名</th>\n      <th>中文名</th>\n      <th>汉名</th>\n      <th>漢名</th>\n      <th>洋名又名</th>\n      <th>汉名又名</th>\n      <th>无调姓</th>\n      <th>无调名</th>\n      <th>所见次数</th>\n      <th>生年</th>\n      <th>卒年</th>\n      <th>族裔</th>\n      <th>备注</th>\n      <th>去重专用</th>\n      <th>Name</th>\n      <th>count</th>\n    </tr>\n  </thead>\n  <tbody>\n  </tbody>\n</table>\n</div>"
     },
     "metadata": {},
     "execution_count": 14
    }
   ],
   "source": [
    "import numpy as np\n",
    "df3_with_count[df3_with_count['count'].isin([np.NaN])]\n",
    "df3_with_count[df3_with_count['所见次数'].isin([np.NaN])]\n",
    "# NaN问题解决了，空格又来了"
   ]
  },
  {
   "cell_type": "code",
   "execution_count": 15,
   "metadata": {},
   "outputs": [],
   "source": [
    "df3_with_count['加权计数'] = df3_with_count.apply(lambda x:int(x['count'])*10 + int(x['所见次数']),axis=1)"
   ]
  },
  {
   "cell_type": "code",
   "execution_count": 16,
   "metadata": {
    "scrolled": false
   },
   "outputs": [
    {
     "output_type": "stream",
     "name": "stdout",
     "text": [
      "                   名字           姓        名  中文名   汉名   漢名 洋名又名 汉名又名  \\\n0         David Zweig       Zweig    David  崔大偉  崔大伟  崔大偉    0    0   \n1  Harriet Zurndorfer  Zurndorfer  Harriet  宋汉理  宋汉理  宋漢理    0    0   \n2        Erik Zürcher     Zürcher     Erik  許理和  许理和  許理和    0    0   \n3          Jiping Zuo         Zuo   Jiping  左际平  左际平  左際平    0    0   \n4         Xuejing Zuo         Zuo  Xuejing  左雪靜  左雪静  左雪靜    0    0   \n5        Tobias Zuern       Zuern   Tobias  陶全恩  陶全恩  陶全恩    0    0   \n6          Jiping Zou         Zou   Jiping  邹际平  邹际平  鄒際平    0    0   \n7              Ke Zou         Zou       Ke   邹科   邹科   鄒科    0    0   \n8         Xiuying Zou         Zou  Xiuying  邹秀英  邹秀英  鄒秀英    0    0   \n\n          无调姓       无调名  所见次数   生年   卒年 族裔 备注                     去重专用  \\\n0       Zweig     David   0.0  0.0  0.0  0  0          崔大偉，Zweig，David   \n1  Zurndorfer   Harriet   0.0  0.0  0.0  0  0  宋漢理，Zurndorfer， Harriet   \n2     Zurcher      Erik   0.0  0.0  0.0  0  0        許理和，Zurcher， Erik   \n3         Zuo    Jiping   0.0  0.0  0.0  0  0          左際平，Zuo， Jiping   \n4         Zuo   Xuejing   0.0  0.0  0.0  0  0         左雪靜，Zuo， Xuejing   \n5       Zuern    Tobias   0.0  0.0  0.0  0  0        陶全恩，Zuern， Tobias   \n6         Zou    Jiping   0.0  0.0  0.0  0  0          鄒際平，Zou， Jiping   \n7         Zou        Ke   0.0  0.0  0.0  0  0               鄒科，Zou， Ke   \n8         Zou   Xiuying   0.0  0.0  0.0  0  0         鄒秀英，Zou， Xiuying   \n\n                      Name  count  加权计数  \n0          崔大偉，Zweig，David      1    10  \n1  宋漢理，Zurndorfer， Harriet      2    20  \n2        許理和，Zurcher， Erik      2    20  \n3          左際平，Zuo， Jiping      2    20  \n4         左雪靜，Zuo， Xuejing      1    10  \n5        陶全恩，Zuern， Tobias      1    10  \n6          鄒際平，Zou， Jiping      2    20  \n7               鄒科，Zou， Ke      2    20  \n8         鄒秀英，Zou， Xiuying      2    20  \n"
     ]
    }
   ],
   "source": [
    "print(df3_with_count[0:9])"
   ]
  },
  {
   "cell_type": "code",
   "execution_count": 17,
   "metadata": {},
   "outputs": [],
   "source": [
    "try:\n",
    "    df3_with_count.drop(['Name', 'count','所见次数','去重专用'], axis=1, inplace=True)\n",
    "except KeyError:\n",
    "    print('好像你已经运行过一遍了，笨蛋')"
   ]
  },
  {
   "cell_type": "code",
   "execution_count": 18,
   "metadata": {},
   "outputs": [
    {
     "output_type": "stream",
     "name": "stdout",
     "text": [
      "                      名字           姓        名   中文名    汉名    漢名 洋名又名 汉名又名  \\\n0            David Zweig       Zweig    David   崔大偉   崔大伟   崔大偉    0    0   \n1     Harriet Zurndorfer  Zurndorfer  Harriet   宋汉理   宋汉理   宋漢理    0    0   \n2           Erik Zürcher     Zürcher     Erik   許理和   许理和   許理和    0    0   \n3             Jiping Zuo         Zuo   Jiping   左际平   左际平   左際平    0    0   \n4            Xuejing Zuo         Zuo  Xuejing   左雪靜   左雪静   左雪靜    0    0   \n...                  ...         ...      ...   ...   ...   ...  ...  ...   \n4302        Harold Acton       Acton   Harold   艾克顿   艾克顿   艾克頓    0    0   \n4303        Pedro Acosta      Acosta    Pedro   柯彼得   柯彼得   柯彼得    0    0   \n4304            Oded Abt         Abt     Oded   歐克德   欧克德   歐克德    0    0   \n4305         Stanley Abe         Abe  Stanley  阿部贤次  阿部贤次  阿部賢次    0    0   \n4306          Pascal Abb         Abb   Pascal   艾沛思   艾沛思   艾沛思    0    0   \n\n             无调姓       无调名   生年   卒年 族裔 备注  加权计数  \n0          Zweig     David  0.0  0.0  0  0    10  \n1     Zurndorfer   Harriet  0.0  0.0  0  0    20  \n2        Zurcher      Erik  0.0  0.0  0  0    20  \n3            Zuo    Jiping  0.0  0.0  0  0    20  \n4            Zuo   Xuejing  0.0  0.0  0  0    10  \n...          ...       ...  ...  ... .. ..   ...  \n4302       Acton    Harold  0.0  0.0  0  0    20  \n4303      Acosta     Pedro  0.0  0.0  0  0    10  \n4304         Abt      Oded  0.0  0.0  0  0    10  \n4305         Abe   Stanley  0.0  0.0  0  0    10  \n4306         Abb    Pascal  0.0  0.0  0  0    10  \n\n[4307 rows x 15 columns]\n"
     ]
    }
   ],
   "source": [
    "print(df3_with_count)"
   ]
  },
  {
   "cell_type": "code",
   "execution_count": 19,
   "metadata": {},
   "outputs": [],
   "source": [
    "# 开始人肉监督去重\n",
    "df4_duplicate_row = df3_with_count.duplicated(['汉名'],keep=False) "
   ]
  },
  {
   "cell_type": "code",
   "execution_count": 20,
   "metadata": {},
   "outputs": [],
   "source": [
    "df4_duplicate_data = df3_with_count.loc[df4_duplicate_row,:]"
   ]
  },
  {
   "cell_type": "code",
   "execution_count": 21,
   "metadata": {},
   "outputs": [
    {
     "output_type": "stream",
     "name": "stdout",
     "text": [
      "                        名字        姓              名  中文名   汉名   漢名 洋名又名 汉名又名  \\\n13           Brook Ziporyn  Ziporyn          Brook  任博克  任博克  任博克    0    0   \n14        Brook A. Ziporyn  Ziporyn       Brook A.  任博克  任博克  任博克    0    0   \n91          Judith Zeitlin  Zeitlin         Judith  蔡九迪  蔡九迪  蔡九迪    0    0   \n92       Judith T. Zeitlin  Zeitlin      Judith T.  蔡九迪  蔡九迪  蔡九迪    0    0   \n97          Dongsheng Zang     Zang      Dongsheng  臧东升  臧东升  臧東昇    0    0   \n...                    ...      ...            ...  ...  ...  ...  ...  ...   \n4286         Guy S. Alitto   Alitto         Guy S.   艾恺   艾恺   艾愷    0    0   \n4287  Guy Salvatore Alitto   Alitto  Guy Salvatore   艾愷   艾恺   艾愷    0    0   \n4297          Joseph Adler    Adler         Joseph  艾周思  艾周思  艾周思    0    0   \n4298       Joseph A. Adler    Adler      Joseph A.  艾周思  艾周思  艾周思    0    0   \n4304              Oded Abt      Abt           Oded  歐克德  欧克德  歐克德    0    0   \n\n          无调姓             无调名   生年   卒年 族裔 备注  加权计数  \n13    Ziporyn           Brook  0.0  0.0  0  0    10  \n14    Ziporyn        Brook A.  0.0  0.0  0  0    10  \n91    Zeitlin          Judith  0.0  0.0  0  0    10  \n92    Zeitlin       Judith T.  0.0  0.0  0  0    10  \n97       Zang       Dongsheng  0.0  0.0  0  0    10  \n...       ...             ...  ...  ... .. ..   ...  \n4286   Alitto          Guy S.  0.0  0.0  0  0    10  \n4287   Alitto   Guy Salvatore  0.0  0.0  0  0    10  \n4297    Adler          Joseph  0.0  0.0  0  0    10  \n4298    Adler       Joseph A.  0.0  0.0  0  0    10  \n4304      Abt            Oded  0.0  0.0  0  0    10  \n\n[815 rows x 15 columns]\n"
     ]
    }
   ],
   "source": [
    "print(df4_duplicate_data)"
   ]
  },
  {
   "cell_type": "code",
   "execution_count": 22,
   "metadata": {},
   "outputs": [],
   "source": [
    "df4_duplicate_data.to_csv('再度去重前人工复核.txt')"
   ]
  },
  {
   "cell_type": "code",
   "execution_count": 23,
   "metadata": {},
   "outputs": [
    {
     "output_type": "stream",
     "name": "stdout",
     "text": [
      "0       False\n1       False\n2       False\n3       False\n4       False\n        ...  \n4302    False\n4303    False\n4304     True\n4305    False\n4306    False\nLength: 4307, dtype: bool\n"
     ]
    }
   ],
   "source": [
    "zh_duplicate_row = df3_with_count.duplicated(['汉名'],keep=False) \n",
    "print(zh_duplicate_row)"
   ]
  },
  {
   "cell_type": "code",
   "execution_count": 24,
   "metadata": {},
   "outputs": [
    {
     "output_type": "stream",
     "name": "stdout",
     "text": [
      "                   名字        姓          名  中文名   汉名   漢名 洋名又名 汉名又名      无调姓  \\\n13      Brook Ziporyn  Ziporyn      Brook  任博克  任博克  任博克    0    0  Ziporyn   \n14   Brook A. Ziporyn  Ziporyn   Brook A.  任博克  任博克  任博克    0    0  Ziporyn   \n91     Judith Zeitlin  Zeitlin     Judith  蔡九迪  蔡九迪  蔡九迪    0    0  Zeitlin   \n92  Judith T. Zeitlin  Zeitlin  Judith T.  蔡九迪  蔡九迪  蔡九迪    0    0  Zeitlin   \n97     Dongsheng Zang     Zang  Dongsheng  臧东升  臧东升  臧東昇    0    0     Zang   \n98     Dongsheng Zang     Zang  Dongsheng  臧東升  臧东升  臧東升    0    0     Zang   \n\n           无调名   生年   卒年 族裔 备注  加权计数  \n13       Brook  0.0  0.0  0  0    10  \n14    Brook A.  0.0  0.0  0  0    10  \n91      Judith  0.0  0.0  0  0    10  \n92   Judith T.  0.0  0.0  0  0    10  \n97   Dongsheng  0.0  0.0  0  0    10  \n98   Dongsheng  0.0  0.0  0  0    10  \n"
     ]
    }
   ],
   "source": [
    "zh_duplicate_data = df3_with_count.loc[zh_duplicate_row,:]\n",
    "print(zh_duplicate_data[0:6])\n",
    "# 有九十八个按照汉名来说属于重名的\n",
    "# 接下来的任务：\n",
    "# 按照上面的再度去重前人工复核，修改Excel原数据，区分汉名重名者\n",
    "# 剩余汉名对应多个名字的，直接按照异名处理，把重复行放到单独列"
   ]
  },
  {
   "cell_type": "code",
   "execution_count": null,
   "metadata": {},
   "outputs": [],
   "source": []
  }
 ],
 "metadata": {
  "kernelspec": {
   "display_name": "Python 3",
   "language": "python",
   "name": "python3"
  },
  "language_info": {
   "codemirror_mode": {
    "name": "ipython",
    "version": 3
   },
   "file_extension": ".py",
   "mimetype": "text/x-python",
   "name": "python",
   "nbconvert_exporter": "python",
   "pygments_lexer": "ipython3",
   "version": "3.7.7-final"
  }
 },
 "nbformat": 4,
 "nbformat_minor": 4
}