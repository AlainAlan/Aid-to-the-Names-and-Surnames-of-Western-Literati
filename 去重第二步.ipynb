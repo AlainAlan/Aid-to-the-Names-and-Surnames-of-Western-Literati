{
 "cells": [
  {
   "cell_type": "code",
   "execution_count": 1,
   "metadata": {},
   "outputs": [],
   "source": [
    "import pandas as pd"
   ]
  },
  {
   "cell_type": "code",
   "execution_count": 2,
   "metadata": {},
   "outputs": [
    {
     "output_type": "stream",
     "name": "stdout",
     "text": [
      "<class 'pandas.core.frame.DataFrame'>\n                   名字           姓        名  中文名   汉名   漢名 洋名又名 汉名又名  \\\n0         David Zweig       Zweig    David  崔大偉  崔大伟  崔大偉  NaN  NaN   \n1  Harriet Zurndorfer  Zurndorfer  Harriet  宋汉理  宋汉理  宋漢理  NaN  NaN   \n2  Harriet Zurndorfer  Zurndorfer  Harriet  宋漢理  宋汉理  宋漢理  NaN  NaN   \n3        Erik Zürcher     Zürcher     Erik  許理和  许理和  許理和  NaN  NaN   \n4        Erik Zürcher     Zürcher     Erik  许理和  许理和  許理和  NaN  NaN   \n\n          无调姓       无调名  所见次数  生年  卒年   族裔   备注  \n0       Zweig     David   NaN NaN NaN  NaN  NaN  \n1  Zurndorfer   Harriet   NaN NaN NaN  NaN  NaN  \n2  Zurndorfer   Harriet   NaN NaN NaN  NaN  NaN  \n3     Zurcher      Erik   NaN NaN NaN  NaN  NaN  \n4     Zurcher      Erik   NaN NaN NaN  NaN  NaN  \n"
     ]
    }
   ],
   "source": [
    "df = pd.read_excel('OMG6.xlsx')\n",
    "# 迭代到OMG6了\n",
    "print(type(df))\n",
    "print(df[0:5])"
   ]
  },
  {
   "cell_type": "code",
   "execution_count": 3,
   "metadata": {},
   "outputs": [
    {
     "output_type": "execute_result",
     "data": {
      "text/plain": [
       "                      名字           姓        名   中文名    汉名    漢名 洋名又名 汉名又名  \\\n",
       "0            David Zweig       Zweig    David   崔大偉   崔大伟   崔大偉    0    0   \n",
       "1     Harriet Zurndorfer  Zurndorfer  Harriet   宋汉理   宋汉理   宋漢理    0    0   \n",
       "2     Harriet Zurndorfer  Zurndorfer  Harriet   宋漢理   宋汉理   宋漢理    0    0   \n",
       "3           Erik Zürcher     Zürcher     Erik   許理和   许理和   許理和    0    0   \n",
       "4           Erik Zürcher     Zürcher     Erik   许理和   许理和   許理和    0    0   \n",
       "...                  ...         ...      ...   ...   ...   ...  ...  ...   \n",
       "5446        Harold Acton       Acton   Harold   艾克頓   艾克顿   艾克頓    0    0   \n",
       "5447        Pedro Acosta      Acosta    Pedro   柯彼得   柯彼得   柯彼得    0    0   \n",
       "5448            Oded Abt         Abt     Oded   歐克德   欧克德   歐克德    0    0   \n",
       "5449         Stanley Abe         Abe  Stanley  阿部贤次  阿部贤次  阿部賢次    0    0   \n",
       "5450          Pascal Abb         Abb   Pascal   艾沛思   艾沛思   艾沛思    0    0   \n",
       "\n",
       "             无调姓       无调名  所见次数   生年   卒年 族裔 备注                     去重专用  \n",
       "0          Zweig     David   0.0  0.0  0.0  0  0          崔大偉，Zweig，David  \n",
       "1     Zurndorfer   Harriet   0.0  0.0  0.0  0  0  宋漢理，Zurndorfer， Harriet  \n",
       "2     Zurndorfer   Harriet   0.0  0.0  0.0  0  0  宋漢理，Zurndorfer， Harriet  \n",
       "3        Zurcher      Erik   0.0  0.0  0.0  0  0        許理和，Zurcher， Erik  \n",
       "4        Zurcher      Erik   0.0  0.0  0.0  0  0        許理和，Zurcher， Erik  \n",
       "...          ...       ...   ...  ...  ... .. ..                      ...  \n",
       "5446       Acton    Harold   0.0  0.0  0.0  0  0        艾克頓，Acton， Harold  \n",
       "5447      Acosta     Pedro   0.0  0.0  0.0  0  0        柯彼得，Acosta， Pedro  \n",
       "5448         Abt      Oded   0.0  0.0  0.0  0  0            歐克德，Abt， Oded  \n",
       "5449         Abe   Stanley   0.0  0.0  0.0  0  0        阿部賢次，Abe， Stanley  \n",
       "5450         Abb    Pascal   0.0  0.0  0.0  0  0          艾沛思，Abb， Pascal  \n",
       "\n",
       "[5451 rows x 16 columns]"
      ],
      "text/html": "<div>\n<style scoped>\n    .dataframe tbody tr th:only-of-type {\n        vertical-align: middle;\n    }\n\n    .dataframe tbody tr th {\n        vertical-align: top;\n    }\n\n    .dataframe thead th {\n        text-align: right;\n    }\n</style>\n<table border=\"1\" class=\"dataframe\">\n  <thead>\n    <tr style=\"text-align: right;\">\n      <th></th>\n      <th>名字</th>\n      <th>姓</th>\n      <th>名</th>\n      <th>中文名</th>\n      <th>汉名</th>\n      <th>漢名</th>\n      <th>洋名又名</th>\n      <th>汉名又名</th>\n      <th>无调姓</th>\n      <th>无调名</th>\n      <th>所见次数</th>\n      <th>生年</th>\n      <th>卒年</th>\n      <th>族裔</th>\n      <th>备注</th>\n      <th>去重专用</th>\n    </tr>\n  </thead>\n  <tbody>\n    <tr>\n      <th>0</th>\n      <td>David Zweig</td>\n      <td>Zweig</td>\n      <td>David</td>\n      <td>崔大偉</td>\n      <td>崔大伟</td>\n      <td>崔大偉</td>\n      <td>0</td>\n      <td>0</td>\n      <td>Zweig</td>\n      <td>David</td>\n      <td>0.0</td>\n      <td>0.0</td>\n      <td>0.0</td>\n      <td>0</td>\n      <td>0</td>\n      <td>崔大偉，Zweig，David</td>\n    </tr>\n    <tr>\n      <th>1</th>\n      <td>Harriet Zurndorfer</td>\n      <td>Zurndorfer</td>\n      <td>Harriet</td>\n      <td>宋汉理</td>\n      <td>宋汉理</td>\n      <td>宋漢理</td>\n      <td>0</td>\n      <td>0</td>\n      <td>Zurndorfer</td>\n      <td>Harriet</td>\n      <td>0.0</td>\n      <td>0.0</td>\n      <td>0.0</td>\n      <td>0</td>\n      <td>0</td>\n      <td>宋漢理，Zurndorfer， Harriet</td>\n    </tr>\n    <tr>\n      <th>2</th>\n      <td>Harriet Zurndorfer</td>\n      <td>Zurndorfer</td>\n      <td>Harriet</td>\n      <td>宋漢理</td>\n      <td>宋汉理</td>\n      <td>宋漢理</td>\n      <td>0</td>\n      <td>0</td>\n      <td>Zurndorfer</td>\n      <td>Harriet</td>\n      <td>0.0</td>\n      <td>0.0</td>\n      <td>0.0</td>\n      <td>0</td>\n      <td>0</td>\n      <td>宋漢理，Zurndorfer， Harriet</td>\n    </tr>\n    <tr>\n      <th>3</th>\n      <td>Erik Zürcher</td>\n      <td>Zürcher</td>\n      <td>Erik</td>\n      <td>許理和</td>\n      <td>许理和</td>\n      <td>許理和</td>\n      <td>0</td>\n      <td>0</td>\n      <td>Zurcher</td>\n      <td>Erik</td>\n      <td>0.0</td>\n      <td>0.0</td>\n      <td>0.0</td>\n      <td>0</td>\n      <td>0</td>\n      <td>許理和，Zurcher， Erik</td>\n    </tr>\n    <tr>\n      <th>4</th>\n      <td>Erik Zürcher</td>\n      <td>Zürcher</td>\n      <td>Erik</td>\n      <td>许理和</td>\n      <td>许理和</td>\n      <td>許理和</td>\n      <td>0</td>\n      <td>0</td>\n      <td>Zurcher</td>\n      <td>Erik</td>\n      <td>0.0</td>\n      <td>0.0</td>\n      <td>0.0</td>\n      <td>0</td>\n      <td>0</td>\n      <td>許理和，Zurcher， Erik</td>\n    </tr>\n    <tr>\n      <th>...</th>\n      <td>...</td>\n      <td>...</td>\n      <td>...</td>\n      <td>...</td>\n      <td>...</td>\n      <td>...</td>\n      <td>...</td>\n      <td>...</td>\n      <td>...</td>\n      <td>...</td>\n      <td>...</td>\n      <td>...</td>\n      <td>...</td>\n      <td>...</td>\n      <td>...</td>\n      <td>...</td>\n    </tr>\n    <tr>\n      <th>5446</th>\n      <td>Harold Acton</td>\n      <td>Acton</td>\n      <td>Harold</td>\n      <td>艾克頓</td>\n      <td>艾克顿</td>\n      <td>艾克頓</td>\n      <td>0</td>\n      <td>0</td>\n      <td>Acton</td>\n      <td>Harold</td>\n      <td>0.0</td>\n      <td>0.0</td>\n      <td>0.0</td>\n      <td>0</td>\n      <td>0</td>\n      <td>艾克頓，Acton， Harold</td>\n    </tr>\n    <tr>\n      <th>5447</th>\n      <td>Pedro Acosta</td>\n      <td>Acosta</td>\n      <td>Pedro</td>\n      <td>柯彼得</td>\n      <td>柯彼得</td>\n      <td>柯彼得</td>\n      <td>0</td>\n      <td>0</td>\n      <td>Acosta</td>\n      <td>Pedro</td>\n      <td>0.0</td>\n      <td>0.0</td>\n      <td>0.0</td>\n      <td>0</td>\n      <td>0</td>\n      <td>柯彼得，Acosta， Pedro</td>\n    </tr>\n    <tr>\n      <th>5448</th>\n      <td>Oded Abt</td>\n      <td>Abt</td>\n      <td>Oded</td>\n      <td>歐克德</td>\n      <td>欧克德</td>\n      <td>歐克德</td>\n      <td>0</td>\n      <td>0</td>\n      <td>Abt</td>\n      <td>Oded</td>\n      <td>0.0</td>\n      <td>0.0</td>\n      <td>0.0</td>\n      <td>0</td>\n      <td>0</td>\n      <td>歐克德，Abt， Oded</td>\n    </tr>\n    <tr>\n      <th>5449</th>\n      <td>Stanley Abe</td>\n      <td>Abe</td>\n      <td>Stanley</td>\n      <td>阿部贤次</td>\n      <td>阿部贤次</td>\n      <td>阿部賢次</td>\n      <td>0</td>\n      <td>0</td>\n      <td>Abe</td>\n      <td>Stanley</td>\n      <td>0.0</td>\n      <td>0.0</td>\n      <td>0.0</td>\n      <td>0</td>\n      <td>0</td>\n      <td>阿部賢次，Abe， Stanley</td>\n    </tr>\n    <tr>\n      <th>5450</th>\n      <td>Pascal Abb</td>\n      <td>Abb</td>\n      <td>Pascal</td>\n      <td>艾沛思</td>\n      <td>艾沛思</td>\n      <td>艾沛思</td>\n      <td>0</td>\n      <td>0</td>\n      <td>Abb</td>\n      <td>Pascal</td>\n      <td>0.0</td>\n      <td>0.0</td>\n      <td>0.0</td>\n      <td>0</td>\n      <td>0</td>\n      <td>艾沛思，Abb， Pascal</td>\n    </tr>\n  </tbody>\n</table>\n<p>5451 rows × 16 columns</p>\n</div>"
     },
     "metadata": {},
     "execution_count": 3
    }
   ],
   "source": [
    "df['去重专用'] = df['漢名'] + '，' + df['无调姓'] + '，'+ df['无调名']\n",
    "df.fillna(0)"
   ]
  },
  {
   "cell_type": "code",
   "execution_count": 4,
   "metadata": {
    "scrolled": true
   },
   "outputs": [
    {
     "output_type": "stream",
     "name": "stdout",
     "text": [
      "                名字       姓        名   中文名    汉名    漢名 洋名又名 汉名又名     无调姓  \\\n5446  Harold Acton   Acton   Harold   艾克頓   艾克顿   艾克頓  NaN  NaN   Acton   \n5447  Pedro Acosta  Acosta    Pedro   柯彼得   柯彼得   柯彼得  NaN  NaN  Acosta   \n5448      Oded Abt     Abt     Oded   歐克德   欧克德   歐克德  NaN  NaN     Abt   \n5449   Stanley Abe     Abe  Stanley  阿部贤次  阿部贤次  阿部賢次  NaN  NaN     Abe   \n5450    Pascal Abb     Abb   Pascal   艾沛思   艾沛思   艾沛思  NaN  NaN     Abb   \n\n           无调名  所见次数  生年  卒年   族裔   备注               去重专用  \n5446    Harold   NaN NaN NaN  NaN  NaN  艾克頓，Acton， Harold  \n5447     Pedro   NaN NaN NaN  NaN  NaN  柯彼得，Acosta， Pedro  \n5448      Oded   NaN NaN NaN  NaN  NaN      歐克德，Abt， Oded  \n5449   Stanley   NaN NaN NaN  NaN  NaN  阿部賢次，Abe， Stanley  \n5450    Pascal   NaN NaN NaN  NaN  NaN    艾沛思，Abb， Pascal  \n"
     ]
    }
   ],
   "source": [
    "print(df[-5:])"
   ]
  },
  {
   "cell_type": "code",
   "execution_count": 5,
   "metadata": {},
   "outputs": [
    {
     "output_type": "execute_result",
     "data": {
      "text/plain": [
       "(5451, 16)"
      ]
     },
     "metadata": {},
     "execution_count": 5
    }
   ],
   "source": [
    "df.shape"
   ]
  },
  {
   "cell_type": "code",
   "execution_count": 6,
   "metadata": {
    "scrolled": true
   },
   "outputs": [
    {
     "output_type": "stream",
     "name": "stdout",
     "text": [
      "0       False\n1        True\n2        True\n3        True\n4        True\n        ...  \n5446     True\n5447    False\n5448    False\n5449    False\n5450    False\nLength: 5451, dtype: bool\n"
     ]
    }
   ],
   "source": [
    "# 先計數吧\n",
    "duplicate_row = df.duplicated(['去重专用'],keep=False) \n",
    "print(duplicate_row)"
   ]
  },
  {
   "cell_type": "code",
   "execution_count": 7,
   "metadata": {
    "scrolled": true
   },
   "outputs": [
    {
     "output_type": "stream",
     "name": "stdout",
     "text": [
      "                   名字           姓        名  中文名   汉名   漢名 洋名又名 汉名又名  \\\n1  Harriet Zurndorfer  Zurndorfer  Harriet  宋汉理  宋汉理  宋漢理  NaN  NaN   \n2  Harriet Zurndorfer  Zurndorfer  Harriet  宋漢理  宋汉理  宋漢理  NaN  NaN   \n3        Erik Zürcher     Zürcher     Erik  許理和  许理和  許理和  NaN  NaN   \n4        Erik Zürcher     Zürcher     Erik  许理和  许理和  許理和  NaN  NaN   \n5          Jiping Zuo         Zuo   Jiping  左际平  左际平  左際平  NaN  NaN   \n6          Jiping Zuo         Zuo   Jiping  左際平  左际平  左際平  NaN  NaN   \n\n          无调姓       无调名  所见次数  生年  卒年   族裔   备注                     去重专用  \n1  Zurndorfer   Harriet   NaN NaN NaN  NaN  NaN  宋漢理，Zurndorfer， Harriet  \n2  Zurndorfer   Harriet   NaN NaN NaN  NaN  NaN  宋漢理，Zurndorfer， Harriet  \n3     Zurcher      Erik   NaN NaN NaN  NaN  NaN        許理和，Zurcher， Erik  \n4     Zurcher      Erik   NaN NaN NaN  NaN  NaN        許理和，Zurcher， Erik  \n5         Zuo    Jiping   NaN NaN NaN  NaN  NaN          左際平，Zuo， Jiping  \n6         Zuo    Jiping   NaN NaN NaN  NaN  NaN          左際平，Zuo， Jiping  \n"
     ]
    }
   ],
   "source": [
    "duplicate_data = df.loc[duplicate_row,:]\n",
    "print(duplicate_data[0:6])\n",
    "# 这是所有在严格意义上重复的数据，没得讲，计算重复次数，然后保留其一"
   ]
  },
  {
   "cell_type": "code",
   "execution_count": 8,
   "metadata": {},
   "outputs": [],
   "source": [
    "count_df = df['去重专用'].value_counts().to_frame().reset_index().rename(columns={'index':'Name','去重专用':'count'})\n",
    "\n",
    "# df['values'].value_counts().to_frame().reset_index().rename(columns={'index':'values', 'values':'count'})"
   ]
  },
  {
   "cell_type": "code",
   "execution_count": 9,
   "metadata": {},
   "outputs": [],
   "source": [
    "df1 = df.drop_duplicates(['去重专用'])"
   ]
  },
  {
   "cell_type": "code",
   "execution_count": 10,
   "metadata": {},
   "outputs": [
    {
     "output_type": "stream",
     "name": "stdout",
     "text": [
      "                      名字           姓        名   中文名    汉名    漢名 洋名又名 汉名又名  \\\n0            David Zweig       Zweig    David   崔大偉   崔大伟   崔大偉  NaN  NaN   \n1     Harriet Zurndorfer  Zurndorfer  Harriet   宋汉理   宋汉理   宋漢理  NaN  NaN   \n2           Erik Zürcher     Zürcher     Erik   許理和   许理和   許理和  NaN  NaN   \n3             Jiping Zuo         Zuo   Jiping   左际平   左际平   左際平  NaN  NaN   \n4            Xuejing Zuo         Zuo  Xuejing   左雪靜   左雪静   左雪靜  NaN  NaN   \n...                  ...         ...      ...   ...   ...   ...  ...  ...   \n4274        Harold Acton       Acton   Harold   艾克顿   艾克顿   艾克頓  NaN  NaN   \n4275        Pedro Acosta      Acosta    Pedro   柯彼得   柯彼得   柯彼得  NaN  NaN   \n4276            Oded Abt         Abt     Oded   歐克德   欧克德   歐克德  NaN  NaN   \n4277         Stanley Abe         Abe  Stanley  阿部贤次  阿部贤次  阿部賢次  NaN  NaN   \n4278          Pascal Abb         Abb   Pascal   艾沛思   艾沛思   艾沛思  NaN  NaN   \n\n             无调姓       无调名  所见次数  生年  卒年   族裔   备注                     去重专用  \\\n0          Zweig     David   NaN NaN NaN  NaN  NaN          崔大偉，Zweig，David   \n1     Zurndorfer   Harriet   NaN NaN NaN  NaN  NaN  宋漢理，Zurndorfer， Harriet   \n2        Zurcher      Erik   NaN NaN NaN  NaN  NaN        許理和，Zurcher， Erik   \n3            Zuo    Jiping   NaN NaN NaN  NaN  NaN          左際平，Zuo， Jiping   \n4            Zuo   Xuejing   NaN NaN NaN  NaN  NaN         左雪靜，Zuo， Xuejing   \n...          ...       ...   ...  ..  ..  ...  ...                      ...   \n4274       Acton    Harold   NaN NaN NaN  NaN  NaN        艾克頓，Acton， Harold   \n4275      Acosta     Pedro   NaN NaN NaN  NaN  NaN        柯彼得，Acosta， Pedro   \n4276         Abt      Oded   NaN NaN NaN  NaN  NaN            歐克德，Abt， Oded   \n4277         Abe   Stanley   NaN NaN NaN  NaN  NaN        阿部賢次，Abe， Stanley   \n4278         Abb    Pascal   NaN NaN NaN  NaN  NaN          艾沛思，Abb， Pascal   \n\n                         Name  count  \n0             崔大偉，Zweig，David      1  \n1     宋漢理，Zurndorfer， Harriet      2  \n2           許理和，Zurcher， Erik      2  \n3             左際平，Zuo， Jiping      2  \n4            左雪靜，Zuo， Xuejing      1  \n...                       ...    ...  \n4274        艾克頓，Acton， Harold      2  \n4275        柯彼得，Acosta， Pedro      1  \n4276            歐克德，Abt， Oded      1  \n4277        阿部賢次，Abe， Stanley      1  \n4278          艾沛思，Abb， Pascal      1  \n\n[4279 rows x 18 columns]\n"
     ]
    }
   ],
   "source": [
    "df3_with_count = pd.merge(df1, count_df, left_on='去重专用',right_on='Name')\n",
    "print(df3_with_count)"
   ]
  },
  {
   "cell_type": "code",
   "execution_count": 11,
   "metadata": {},
   "outputs": [],
   "source": [
    "df3_with_count = df3_with_count.fillna(0)"
   ]
  },
  {
   "cell_type": "code",
   "execution_count": 12,
   "metadata": {},
   "outputs": [
    {
     "output_type": "execute_result",
     "data": {
      "text/plain": [
       "Empty DataFrame\n",
       "Columns: [名字, 姓, 名, 中文名, 汉名, 漢名, 洋名又名, 汉名又名, 无调姓, 无调名, 所见次数, 生年, 卒年, 族裔, 备注, 去重专用, Name, count]\n",
       "Index: []"
      ],
      "text/html": "<div>\n<style scoped>\n    .dataframe tbody tr th:only-of-type {\n        vertical-align: middle;\n    }\n\n    .dataframe tbody tr th {\n        vertical-align: top;\n    }\n\n    .dataframe thead th {\n        text-align: right;\n    }\n</style>\n<table border=\"1\" class=\"dataframe\">\n  <thead>\n    <tr style=\"text-align: right;\">\n      <th></th>\n      <th>名字</th>\n      <th>姓</th>\n      <th>名</th>\n      <th>中文名</th>\n      <th>汉名</th>\n      <th>漢名</th>\n      <th>洋名又名</th>\n      <th>汉名又名</th>\n      <th>无调姓</th>\n      <th>无调名</th>\n      <th>所见次数</th>\n      <th>生年</th>\n      <th>卒年</th>\n      <th>族裔</th>\n      <th>备注</th>\n      <th>去重专用</th>\n      <th>Name</th>\n      <th>count</th>\n    </tr>\n  </thead>\n  <tbody>\n  </tbody>\n</table>\n</div>"
     },
     "metadata": {},
     "execution_count": 12
    }
   ],
   "source": [
    "import numpy as np\n",
    "df3_with_count[df3_with_count['count'].isin([np.NaN])]\n",
    "df3_with_count[df3_with_count['所见次数'].isin([np.NaN])]\n",
    "# NaN问题解决了，空格又来了"
   ]
  },
  {
   "cell_type": "code",
   "execution_count": 13,
   "metadata": {},
   "outputs": [],
   "source": [
    "df3_with_count['加权计数'] = df3_with_count.apply(lambda x:int(x['count'])*10 + int(x['所见次数']),axis=1)"
   ]
  },
  {
   "cell_type": "code",
   "execution_count": 14,
   "metadata": {
    "scrolled": false
   },
   "outputs": [
    {
     "output_type": "stream",
     "name": "stdout",
     "text": [
      "                   名字           姓        名  中文名   汉名   漢名 洋名又名 汉名又名  \\\n0         David Zweig       Zweig    David  崔大偉  崔大伟  崔大偉    0    0   \n1  Harriet Zurndorfer  Zurndorfer  Harriet  宋汉理  宋汉理  宋漢理    0    0   \n2        Erik Zürcher     Zürcher     Erik  許理和  许理和  許理和    0    0   \n3          Jiping Zuo         Zuo   Jiping  左际平  左际平  左際平    0    0   \n4         Xuejing Zuo         Zuo  Xuejing  左雪靜  左雪静  左雪靜    0    0   \n5        Tobias Zuern       Zuern   Tobias  陶全恩  陶全恩  陶全恩    0    0   \n6          Jiping Zou         Zou   Jiping  邹际平  邹际平  鄒際平    0    0   \n7              Ke Zou         Zou       Ke   邹科   邹科   鄒科    0    0   \n8         Xiuying Zou         Zou  Xiuying  邹秀英  邹秀英  鄒秀英    0    0   \n\n          无调姓       无调名  所见次数   生年   卒年 族裔 备注                     去重专用  \\\n0       Zweig     David   0.0  0.0  0.0  0  0          崔大偉，Zweig，David   \n1  Zurndorfer   Harriet   0.0  0.0  0.0  0  0  宋漢理，Zurndorfer， Harriet   \n2     Zurcher      Erik   0.0  0.0  0.0  0  0        許理和，Zurcher， Erik   \n3         Zuo    Jiping   0.0  0.0  0.0  0  0          左際平，Zuo， Jiping   \n4         Zuo   Xuejing   0.0  0.0  0.0  0  0         左雪靜，Zuo， Xuejing   \n5       Zuern    Tobias   0.0  0.0  0.0  0  0        陶全恩，Zuern， Tobias   \n6         Zou    Jiping   0.0  0.0  0.0  0  0          鄒際平，Zou， Jiping   \n7         Zou        Ke   0.0  0.0  0.0  0  0               鄒科，Zou， Ke   \n8         Zou   Xiuying   0.0  0.0  0.0  0  0         鄒秀英，Zou， Xiuying   \n\n                      Name  count  加权计数  \n0          崔大偉，Zweig，David      1    10  \n1  宋漢理，Zurndorfer， Harriet      2    20  \n2        許理和，Zurcher， Erik      2    20  \n3          左際平，Zuo， Jiping      2    20  \n4         左雪靜，Zuo， Xuejing      1    10  \n5        陶全恩，Zuern， Tobias      1    10  \n6          鄒際平，Zou， Jiping      2    20  \n7               鄒科，Zou， Ke      2    20  \n8         鄒秀英，Zou， Xiuying      2    20  \n"
     ]
    }
   ],
   "source": [
    "print(df3_with_count[0:9])"
   ]
  },
  {
   "cell_type": "code",
   "execution_count": 15,
   "metadata": {},
   "outputs": [],
   "source": [
    "try:\n",
    "    df3_with_count.drop(['Name', 'count','所见次数','去重专用'], axis=1, inplace=True)\n",
    "except KeyError:\n",
    "    print('好像你已经运行过一遍了，笨蛋')"
   ]
  },
  {
   "cell_type": "code",
   "execution_count": 16,
   "metadata": {},
   "outputs": [
    {
     "output_type": "stream",
     "name": "stdout",
     "text": [
      "                      名字           姓        名   中文名    汉名    漢名 洋名又名 汉名又名  \\\n0            David Zweig       Zweig    David   崔大偉   崔大伟   崔大偉    0    0   \n1     Harriet Zurndorfer  Zurndorfer  Harriet   宋汉理   宋汉理   宋漢理    0    0   \n2           Erik Zürcher     Zürcher     Erik   許理和   许理和   許理和    0    0   \n3             Jiping Zuo         Zuo   Jiping   左际平   左际平   左際平    0    0   \n4            Xuejing Zuo         Zuo  Xuejing   左雪靜   左雪静   左雪靜    0    0   \n...                  ...         ...      ...   ...   ...   ...  ...  ...   \n4274        Harold Acton       Acton   Harold   艾克顿   艾克顿   艾克頓    0    0   \n4275        Pedro Acosta      Acosta    Pedro   柯彼得   柯彼得   柯彼得    0    0   \n4276            Oded Abt         Abt     Oded   歐克德   欧克德   歐克德    0    0   \n4277         Stanley Abe         Abe  Stanley  阿部贤次  阿部贤次  阿部賢次    0    0   \n4278          Pascal Abb         Abb   Pascal   艾沛思   艾沛思   艾沛思    0    0   \n\n             无调姓       无调名   生年   卒年 族裔 备注  加权计数  \n0          Zweig     David  0.0  0.0  0  0    10  \n1     Zurndorfer   Harriet  0.0  0.0  0  0    20  \n2        Zurcher      Erik  0.0  0.0  0  0    20  \n3            Zuo    Jiping  0.0  0.0  0  0    20  \n4            Zuo   Xuejing  0.0  0.0  0  0    10  \n...          ...       ...  ...  ... .. ..   ...  \n4274       Acton    Harold  0.0  0.0  0  0    20  \n4275      Acosta     Pedro  0.0  0.0  0  0    10  \n4276         Abt      Oded  0.0  0.0  0  0    10  \n4277         Abe   Stanley  0.0  0.0  0  0    10  \n4278         Abb    Pascal  0.0  0.0  0  0    10  \n\n[4279 rows x 15 columns]\n"
     ]
    }
   ],
   "source": [
    "print(df3_with_count)"
   ]
  },
  {
   "cell_type": "code",
   "execution_count": 17,
   "metadata": {},
   "outputs": [],
   "source": [
    "df4_duplicate_row = df3_with_count.duplicated(['汉名'],keep=False) "
   ]
  },
  {
   "cell_type": "code",
   "execution_count": 18,
   "metadata": {},
   "outputs": [],
   "source": [
    "df4_duplicate_data = df3_with_count.loc[df4_duplicate_row,:]"
   ]
  },
  {
   "cell_type": "code",
   "execution_count": 19,
   "metadata": {},
   "outputs": [
    {
     "output_type": "stream",
     "name": "stdout",
     "text": [
      "                        名字        姓              名  中文名   汉名   漢名 洋名又名 汉名又名  \\\n13           Brook Ziporyn  Ziporyn          Brook  任博克  任博克  任博克    0    0   \n14        Brook A. Ziporyn  Ziporyn       Brook A.  任博克  任博克  任博克    0    0   \n91          Judith Zeitlin  Zeitlin         Judith  蔡九迪  蔡九迪  蔡九迪    0    0   \n92       Judith T. Zeitlin  Zeitlin      Judith T.  蔡九迪  蔡九迪  蔡九迪    0    0   \n97          Dongsheng Zang     Zang      Dongsheng  臧东升  臧东升  臧東昇    0    0   \n...                    ...      ...            ...  ...  ...  ...  ...  ...   \n4257           Sarah Allan    Allan          Sarah   艾兰   艾兰   艾蘭    0    0   \n4258         Guy S. Alitto   Alitto         Guy S.   艾恺   艾恺   艾愷    0    0   \n4259  Guy Salvatore Alitto   Alitto  Guy Salvatore   艾愷   艾恺   艾愷    0    0   \n4269          Joseph Adler    Adler         Joseph  艾周思  艾周思  艾周思    0    0   \n4270       Joseph A. Adler    Adler      Joseph A.  艾周思  艾周思  艾周思    0    0   \n\n          无调姓             无调名      生年   卒年 族裔 备注  加权计数  \n13    Ziporyn           Brook     0.0  0.0  0  0    10  \n14    Ziporyn        Brook A.     0.0  0.0  0  0    10  \n91    Zeitlin          Judith     0.0  0.0  0  0    10  \n92    Zeitlin       Judith T.     0.0  0.0  0  0    10  \n97       Zang       Dongsheng     0.0  0.0  0  0    10  \n...       ...             ...     ...  ... .. ..   ...  \n4257    Allan           Sarah  1945.0  0.0  0  0    12  \n4258   Alitto          Guy S.     0.0  0.0  0  0    10  \n4259   Alitto   Guy Salvatore     0.0  0.0  0  0    10  \n4269    Adler          Joseph     0.0  0.0  0  0    10  \n4270    Adler       Joseph A.     0.0  0.0  0  0    10  \n\n[748 rows x 15 columns]\n"
     ]
    }
   ],
   "source": [
    "print(df4_duplicate_data)"
   ]
  },
  {
   "cell_type": "code",
   "execution_count": 20,
   "metadata": {},
   "outputs": [],
   "source": [
    "# df4_duplicate_data.to_csv('再度去重前人工复核.txt')\n",
    "# 经过第一步的人工复核，然后通过修改校对OMG5>6，\n",
    "# 确认只需要：\n",
    "# 1. 根据汉名去重\n",
    "# 2. 只保留first和last\n",
    "# 3. 然后merge\n",
    "# 4. 然后附到去除全部重复项的表格之后\n",
    "# 5. 输出文件，用excel重新排序、调整\n",
    "# 6. 抽样，检查是否有系统性讹误"
   ]
  },
  {
   "cell_type": "code",
   "execution_count": 21,
   "metadata": {},
   "outputs": [],
   "source": [
    "df4_first = df4_duplicate_data.drop_duplicates(['汉名'],keep='first')"
   ]
  },
  {
   "cell_type": "code",
   "execution_count": 22,
   "metadata": {},
   "outputs": [
    {
     "output_type": "stream",
     "name": "stdout",
     "text": [
      "       汉名                    名字\n14    任博克      Brook A. Ziporyn\n92    蔡九迪     Judith T. Zeitlin\n98    臧东升        Dongsheng Zang\n123   余国藩         Anthony C. Yu\n125   于君方          Chun-fang Yu\n...   ...                   ...\n4234  欧阳泰         Tonio Andrade\n4244  安乐哲         Roger T. Ames\n4257   艾兰           Sarah Allan\n4259   艾恺  Guy Salvatore Alitto\n4270  艾周思       Joseph A. Adler\n\n[365 rows x 2 columns]\n"
     ]
    }
   ],
   "source": [
    "df4_last = df4_duplicate_data.drop_duplicates(['汉名'],keep='last')\n",
    "df4_last = df4_last[['汉名','名字']]\n",
    "print(df4_last)"
   ]
  },
  {
   "cell_type": "code",
   "execution_count": 23,
   "metadata": {},
   "outputs": [
    {
     "output_type": "stream",
     "name": "stdout",
     "text": [
      "                 名字        姓           名  中文名   汉名   漢名 洋名又名 汉名又名      无调姓  \\\n0     Brook Ziporyn  Ziporyn       Brook  任博克  任博克  任博克    0    0  Ziporyn   \n1    Judith Zeitlin  Zeitlin      Judith  蔡九迪  蔡九迪  蔡九迪    0    0  Zeitlin   \n2    Dongsheng Zang     Zang   Dongsheng  臧东升  臧东升  臧東昇    0    0     Zang   \n3      Chün-fang Yü       Yü   Chün-fang  于君方  于君方  于君方    0    0       Yu   \n4     Anthony C. Yu       Yu  Anthony C.  余国藩  余国藩  餘國藩    0    0       Yu   \n..              ...      ...         ...  ...  ...  ...  ...  ...      ...   \n360   Tonio Andrane  Andrane       Tonio  欧阳泰  欧阳泰  歐陽泰    0    0  Andrane   \n361   Roger T. Ames     Ames    Roger T.  安乐哲  安乐哲  安樂哲    0    0     Ames   \n362     Sarah Allan    Allan       Sarah   艾兰   艾兰   艾蘭    0    0    Allan   \n363   Guy S. Alitto   Alitto      Guy S.   艾恺   艾恺   艾愷    0    0   Alitto   \n364    Joseph Adler    Adler      Joseph  艾周思  艾周思  艾周思    0    0    Adler   \n\n             无调名   生年   卒年 族裔 备注  加权计数                    异文  \n0          Brook  0.0  0.0  0  0    10      Brook A. Ziporyn  \n1         Judith  0.0  0.0  0  0    10     Judith T. Zeitlin  \n2      Dongsheng  0.0  0.0  0  0    10        Dongsheng Zang  \n3      Chun-fang  0.0  0.0  0  0    10          Chun-fang Yu  \n4     Anthony C.  0.0  0.0  0  0    10         Anthony C. Yu  \n..           ...  ...  ... .. ..   ...                   ...  \n360        Tonio  0.0  0.0  0  0    10         Tonio Andrade  \n361     Roger T.  0.0  0.0  0  0    20         Roger T. Ames  \n362        Sarah  0.0  0.0  0  0    20           Sarah Allan  \n363       Guy S.  0.0  0.0  0  0    10  Guy Salvatore Alitto  \n364       Joseph  0.0  0.0  0  0    10       Joseph A. Adler  \n\n[365 rows x 16 columns]\n"
     ]
    }
   ],
   "source": [
    "df4_first_n_last = pd.merge(df4_first, df4_last, how='left',on=['汉名']).rename(columns={'名字_y':'异文','名字_x':'名字'})\n",
    "\n",
    "print(df4_first_n_last)"
   ]
  },
  {
   "cell_type": "code",
   "execution_count": 24,
   "metadata": {},
   "outputs": [
    {
     "output_type": "execute_result",
     "data": {
      "text/plain": [
       "(3531, 15)"
      ]
     },
     "metadata": {},
     "execution_count": 24
    }
   ],
   "source": [
    "zh_without_duplicate_row = df3_with_count.drop_duplicates(['汉名'],keep=False)\n",
    "zh_without_duplicate_row.shape"
   ]
  },
  {
   "cell_type": "code",
   "execution_count": 25,
   "metadata": {},
   "outputs": [],
   "source": [
    "final_data = zh_without_duplicate_row.append(df4_first_n_last,ignore_index=True)"
   ]
  },
  {
   "cell_type": "code",
   "execution_count": 26,
   "metadata": {},
   "outputs": [
    {
     "output_type": "stream",
     "name": "stdout",
     "text": [
      "                      名字           姓         名  中文名   汉名   漢名 洋名又名 汉名又名  \\\n0            David Zweig       Zweig     David  崔大偉  崔大伟  崔大偉    0    0   \n1     Harriet Zurndorfer  Zurndorfer   Harriet  宋汉理  宋汉理  宋漢理    0    0   \n2           Erik Zürcher     Zürcher      Erik  許理和  许理和  許理和    0    0   \n3             Jiping Zuo         Zuo    Jiping  左际平  左际平  左際平    0    0   \n4            Xuejing Zuo         Zuo   Xuejing  左雪靜  左雪静  左雪靜    0    0   \n...                  ...         ...       ...  ...  ...  ...  ...  ...   \n3891       Tonio Andrane     Andrane     Tonio  欧阳泰  欧阳泰  歐陽泰    0    0   \n3892       Roger T. Ames        Ames  Roger T.  安乐哲  安乐哲  安樂哲    0    0   \n3893         Sarah Allan       Allan     Sarah   艾兰   艾兰   艾蘭    0    0   \n3894       Guy S. Alitto      Alitto    Guy S.   艾恺   艾恺   艾愷    0    0   \n3895        Joseph Adler       Adler    Joseph  艾周思  艾周思  艾周思    0    0   \n\n             无调姓        无调名   生年   卒年 族裔 备注  加权计数                    异文  \n0          Zweig      David  0.0  0.0  0  0    10                   NaN  \n1     Zurndorfer    Harriet  0.0  0.0  0  0    20                   NaN  \n2        Zurcher       Erik  0.0  0.0  0  0    20                   NaN  \n3            Zuo     Jiping  0.0  0.0  0  0    20                   NaN  \n4            Zuo    Xuejing  0.0  0.0  0  0    10                   NaN  \n...          ...        ...  ...  ... .. ..   ...                   ...  \n3891     Andrane      Tonio  0.0  0.0  0  0    10         Tonio Andrade  \n3892        Ames   Roger T.  0.0  0.0  0  0    20         Roger T. Ames  \n3893       Allan      Sarah  0.0  0.0  0  0    20           Sarah Allan  \n3894      Alitto     Guy S.  0.0  0.0  0  0    10  Guy Salvatore Alitto  \n3895       Adler     Joseph  0.0  0.0  0  0    10       Joseph A. Adler  \n\n[3896 rows x 16 columns]\n"
     ]
    }
   ],
   "source": [
    "print(final_data)"
   ]
  },
  {
   "cell_type": "code",
   "execution_count": 27,
   "metadata": {},
   "outputs": [],
   "source": [
    "final_data.to_excel('OMG7.xlsx')"
   ]
  }
 ],
 "metadata": {
  "kernelspec": {
   "display_name": "Python 3",
   "language": "python",
   "name": "python3"
  },
  "language_info": {
   "codemirror_mode": {
    "name": "ipython",
    "version": 3
   },
   "file_extension": ".py",
   "mimetype": "text/x-python",
   "name": "python",
   "nbconvert_exporter": "python",
   "pygments_lexer": "ipython3",
   "version": "3.7.7-final"
  }
 },
 "nbformat": 4,
 "nbformat_minor": 4
}